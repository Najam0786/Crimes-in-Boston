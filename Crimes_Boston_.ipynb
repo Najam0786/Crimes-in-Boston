{
 "cells": [
  {
   "cell_type": "markdown",
   "metadata": {},
   "source": [
    "## Data Science Assignment UnSupervised Learning  \n",
    "\n",
    "## Assignment Name : Crimes in Boston                                          Date : 20th Jan 2022\n",
    "\n",
    "## Professor Name : Christa Santos                                             \n",
    "\n",
    "## Student Name : 0921_UnsupML_{Nazmul Farooquee}\n",
    "\n"
   ]
  },
  {
   "cell_type": "markdown",
   "metadata": {},
   "source": [
    "Boston, officially the City of Boston, is the capital and most populous city of Massachusetts in the United States and the 24th most populous city. The city proper covered 48.5 square miles with 675,674 in 2020. \n",
    "\n",
    "A global city, Boston is placed among the top 30 most economically powerful cities globally. Encompassing $363 billion, the Greater Boston metropolitan area has the sixth-largest economy in the country and 12th largest in the world. \n",
    "\n",
    "Boston included $414 million in spending on the Boston Police Department in the fiscal 2021 budget. This is the second-largest allocation of funding by the city after the grant to Boston Public Schools. \n",
    "\n",
    "## Target: \n",
    "\n",
    "Boston Crimes Data analysis: Crime incident reports are provided by Boston Police Department. Our primary focus is to regularly identify and predict the crimes based on the nature of crimes and occurrences. Which type of crime happened most frequently, and which district was affected most. \n",
    "\n"
   ]
  },
  {
   "cell_type": "markdown",
   "metadata": {},
   "source": [
    "Import Libraries and Datasets "
   ]
  },
  {
   "cell_type": "code",
   "execution_count": 1,
   "metadata": {},
   "outputs": [],
   "source": [
    "import pandas as pd \n",
    "import numpy as np \n",
    "import seaborn as sns \n",
    "import matplotlib.pyplot as plt \n",
    "from sklearn.preprocessing import StandardScaler , normalize \n",
    "from sklearn.cluster import KMeans \n",
    "from sklearn.decomposition import PCA "
   ]
  },
  {
   "cell_type": "code",
   "execution_count": 2,
   "metadata": {},
   "outputs": [],
   "source": [
    "crime_df = pd.read_csv('crime.csv', encoding='windows-1252', delimiter=',')"
   ]
  },
  {
   "cell_type": "code",
   "execution_count": 3,
   "metadata": {},
   "outputs": [
    {
     "data": {
      "text/html": [
       "<div>\n",
       "<style scoped>\n",
       "    .dataframe tbody tr th:only-of-type {\n",
       "        vertical-align: middle;\n",
       "    }\n",
       "\n",
       "    .dataframe tbody tr th {\n",
       "        vertical-align: top;\n",
       "    }\n",
       "\n",
       "    .dataframe thead th {\n",
       "        text-align: right;\n",
       "    }\n",
       "</style>\n",
       "<table border=\"1\" class=\"dataframe\">\n",
       "  <thead>\n",
       "    <tr style=\"text-align: right;\">\n",
       "      <th></th>\n",
       "      <th>INCIDENT_NUMBER</th>\n",
       "      <th>OFFENSE_CODE</th>\n",
       "      <th>OFFENSE_CODE_GROUP</th>\n",
       "      <th>OFFENSE_DESCRIPTION</th>\n",
       "      <th>DISTRICT</th>\n",
       "      <th>REPORTING_AREA</th>\n",
       "      <th>SHOOTING</th>\n",
       "      <th>OCCURRED_ON_DATE</th>\n",
       "      <th>YEAR</th>\n",
       "      <th>MONTH</th>\n",
       "      <th>DAY_OF_WEEK</th>\n",
       "      <th>HOUR</th>\n",
       "      <th>UCR_PART</th>\n",
       "      <th>STREET</th>\n",
       "      <th>Lat</th>\n",
       "      <th>Long</th>\n",
       "      <th>Location</th>\n",
       "    </tr>\n",
       "  </thead>\n",
       "  <tbody>\n",
       "    <tr>\n",
       "      <th>0</th>\n",
       "      <td>I182070945</td>\n",
       "      <td>619</td>\n",
       "      <td>Larceny</td>\n",
       "      <td>LARCENY ALL OTHERS</td>\n",
       "      <td>D14</td>\n",
       "      <td>808</td>\n",
       "      <td>NaN</td>\n",
       "      <td>2018-09-02 13:00:00</td>\n",
       "      <td>2018</td>\n",
       "      <td>9</td>\n",
       "      <td>Sunday</td>\n",
       "      <td>13</td>\n",
       "      <td>Part One</td>\n",
       "      <td>LINCOLN ST</td>\n",
       "      <td>42.357791</td>\n",
       "      <td>-71.139371</td>\n",
       "      <td>(42.35779134, -71.13937053)</td>\n",
       "    </tr>\n",
       "    <tr>\n",
       "      <th>1</th>\n",
       "      <td>I182070943</td>\n",
       "      <td>1402</td>\n",
       "      <td>Vandalism</td>\n",
       "      <td>VANDALISM</td>\n",
       "      <td>C11</td>\n",
       "      <td>347</td>\n",
       "      <td>NaN</td>\n",
       "      <td>2018-08-21 00:00:00</td>\n",
       "      <td>2018</td>\n",
       "      <td>8</td>\n",
       "      <td>Tuesday</td>\n",
       "      <td>0</td>\n",
       "      <td>Part Two</td>\n",
       "      <td>HECLA ST</td>\n",
       "      <td>42.306821</td>\n",
       "      <td>-71.060300</td>\n",
       "      <td>(42.30682138, -71.06030035)</td>\n",
       "    </tr>\n",
       "    <tr>\n",
       "      <th>2</th>\n",
       "      <td>I182070941</td>\n",
       "      <td>3410</td>\n",
       "      <td>Towed</td>\n",
       "      <td>TOWED MOTOR VEHICLE</td>\n",
       "      <td>D4</td>\n",
       "      <td>151</td>\n",
       "      <td>NaN</td>\n",
       "      <td>2018-09-03 19:27:00</td>\n",
       "      <td>2018</td>\n",
       "      <td>9</td>\n",
       "      <td>Monday</td>\n",
       "      <td>19</td>\n",
       "      <td>Part Three</td>\n",
       "      <td>CAZENOVE ST</td>\n",
       "      <td>42.346589</td>\n",
       "      <td>-71.072429</td>\n",
       "      <td>(42.34658879, -71.07242943)</td>\n",
       "    </tr>\n",
       "    <tr>\n",
       "      <th>3</th>\n",
       "      <td>I182070940</td>\n",
       "      <td>3114</td>\n",
       "      <td>Investigate Property</td>\n",
       "      <td>INVESTIGATE PROPERTY</td>\n",
       "      <td>D4</td>\n",
       "      <td>272</td>\n",
       "      <td>NaN</td>\n",
       "      <td>2018-09-03 21:16:00</td>\n",
       "      <td>2018</td>\n",
       "      <td>9</td>\n",
       "      <td>Monday</td>\n",
       "      <td>21</td>\n",
       "      <td>Part Three</td>\n",
       "      <td>NEWCOMB ST</td>\n",
       "      <td>42.334182</td>\n",
       "      <td>-71.078664</td>\n",
       "      <td>(42.33418175, -71.07866441)</td>\n",
       "    </tr>\n",
       "    <tr>\n",
       "      <th>4</th>\n",
       "      <td>I182070938</td>\n",
       "      <td>3114</td>\n",
       "      <td>Investigate Property</td>\n",
       "      <td>INVESTIGATE PROPERTY</td>\n",
       "      <td>B3</td>\n",
       "      <td>421</td>\n",
       "      <td>NaN</td>\n",
       "      <td>2018-09-03 21:05:00</td>\n",
       "      <td>2018</td>\n",
       "      <td>9</td>\n",
       "      <td>Monday</td>\n",
       "      <td>21</td>\n",
       "      <td>Part Three</td>\n",
       "      <td>DELHI ST</td>\n",
       "      <td>42.275365</td>\n",
       "      <td>-71.090361</td>\n",
       "      <td>(42.27536542, -71.09036101)</td>\n",
       "    </tr>\n",
       "    <tr>\n",
       "      <th>...</th>\n",
       "      <td>...</td>\n",
       "      <td>...</td>\n",
       "      <td>...</td>\n",
       "      <td>...</td>\n",
       "      <td>...</td>\n",
       "      <td>...</td>\n",
       "      <td>...</td>\n",
       "      <td>...</td>\n",
       "      <td>...</td>\n",
       "      <td>...</td>\n",
       "      <td>...</td>\n",
       "      <td>...</td>\n",
       "      <td>...</td>\n",
       "      <td>...</td>\n",
       "      <td>...</td>\n",
       "      <td>...</td>\n",
       "      <td>...</td>\n",
       "    </tr>\n",
       "    <tr>\n",
       "      <th>319068</th>\n",
       "      <td>I050310906-00</td>\n",
       "      <td>3125</td>\n",
       "      <td>Warrant Arrests</td>\n",
       "      <td>WARRANT ARREST</td>\n",
       "      <td>D4</td>\n",
       "      <td>285</td>\n",
       "      <td>NaN</td>\n",
       "      <td>2016-06-05 17:25:00</td>\n",
       "      <td>2016</td>\n",
       "      <td>6</td>\n",
       "      <td>Sunday</td>\n",
       "      <td>17</td>\n",
       "      <td>Part Three</td>\n",
       "      <td>COVENTRY ST</td>\n",
       "      <td>42.336951</td>\n",
       "      <td>-71.085748</td>\n",
       "      <td>(42.33695098, -71.08574813)</td>\n",
       "    </tr>\n",
       "    <tr>\n",
       "      <th>319069</th>\n",
       "      <td>I030217815-08</td>\n",
       "      <td>111</td>\n",
       "      <td>Homicide</td>\n",
       "      <td>MURDER, NON-NEGLIGIENT MANSLAUGHTER</td>\n",
       "      <td>E18</td>\n",
       "      <td>520</td>\n",
       "      <td>NaN</td>\n",
       "      <td>2015-07-09 13:38:00</td>\n",
       "      <td>2015</td>\n",
       "      <td>7</td>\n",
       "      <td>Thursday</td>\n",
       "      <td>13</td>\n",
       "      <td>Part One</td>\n",
       "      <td>RIVER ST</td>\n",
       "      <td>42.255926</td>\n",
       "      <td>-71.123172</td>\n",
       "      <td>(42.25592648, -71.12317207)</td>\n",
       "    </tr>\n",
       "    <tr>\n",
       "      <th>319070</th>\n",
       "      <td>I030217815-08</td>\n",
       "      <td>3125</td>\n",
       "      <td>Warrant Arrests</td>\n",
       "      <td>WARRANT ARREST</td>\n",
       "      <td>E18</td>\n",
       "      <td>520</td>\n",
       "      <td>NaN</td>\n",
       "      <td>2015-07-09 13:38:00</td>\n",
       "      <td>2015</td>\n",
       "      <td>7</td>\n",
       "      <td>Thursday</td>\n",
       "      <td>13</td>\n",
       "      <td>Part Three</td>\n",
       "      <td>RIVER ST</td>\n",
       "      <td>42.255926</td>\n",
       "      <td>-71.123172</td>\n",
       "      <td>(42.25592648, -71.12317207)</td>\n",
       "    </tr>\n",
       "    <tr>\n",
       "      <th>319071</th>\n",
       "      <td>I010370257-00</td>\n",
       "      <td>3125</td>\n",
       "      <td>Warrant Arrests</td>\n",
       "      <td>WARRANT ARREST</td>\n",
       "      <td>E13</td>\n",
       "      <td>569</td>\n",
       "      <td>NaN</td>\n",
       "      <td>2016-05-31 19:35:00</td>\n",
       "      <td>2016</td>\n",
       "      <td>5</td>\n",
       "      <td>Tuesday</td>\n",
       "      <td>19</td>\n",
       "      <td>Part Three</td>\n",
       "      <td>NEW WASHINGTON ST</td>\n",
       "      <td>42.302333</td>\n",
       "      <td>-71.111565</td>\n",
       "      <td>(42.30233307, -71.11156487)</td>\n",
       "    </tr>\n",
       "    <tr>\n",
       "      <th>319072</th>\n",
       "      <td>142052550</td>\n",
       "      <td>3125</td>\n",
       "      <td>Warrant Arrests</td>\n",
       "      <td>WARRANT ARREST</td>\n",
       "      <td>D4</td>\n",
       "      <td>903</td>\n",
       "      <td>NaN</td>\n",
       "      <td>2015-06-22 00:12:00</td>\n",
       "      <td>2015</td>\n",
       "      <td>6</td>\n",
       "      <td>Monday</td>\n",
       "      <td>0</td>\n",
       "      <td>Part Three</td>\n",
       "      <td>WASHINGTON ST</td>\n",
       "      <td>42.333839</td>\n",
       "      <td>-71.080290</td>\n",
       "      <td>(42.33383935, -71.08029038)</td>\n",
       "    </tr>\n",
       "  </tbody>\n",
       "</table>\n",
       "<p>319073 rows × 17 columns</p>\n",
       "</div>"
      ],
      "text/plain": [
       "       INCIDENT_NUMBER  OFFENSE_CODE    OFFENSE_CODE_GROUP  \\\n",
       "0           I182070945           619               Larceny   \n",
       "1           I182070943          1402             Vandalism   \n",
       "2           I182070941          3410                 Towed   \n",
       "3           I182070940          3114  Investigate Property   \n",
       "4           I182070938          3114  Investigate Property   \n",
       "...                ...           ...                   ...   \n",
       "319068   I050310906-00          3125       Warrant Arrests   \n",
       "319069   I030217815-08           111              Homicide   \n",
       "319070   I030217815-08          3125       Warrant Arrests   \n",
       "319071   I010370257-00          3125       Warrant Arrests   \n",
       "319072       142052550          3125       Warrant Arrests   \n",
       "\n",
       "                        OFFENSE_DESCRIPTION DISTRICT REPORTING_AREA SHOOTING  \\\n",
       "0                        LARCENY ALL OTHERS      D14            808      NaN   \n",
       "1                                 VANDALISM      C11            347      NaN   \n",
       "2                       TOWED MOTOR VEHICLE       D4            151      NaN   \n",
       "3                      INVESTIGATE PROPERTY       D4            272      NaN   \n",
       "4                      INVESTIGATE PROPERTY       B3            421      NaN   \n",
       "...                                     ...      ...            ...      ...   \n",
       "319068                       WARRANT ARREST       D4            285      NaN   \n",
       "319069  MURDER, NON-NEGLIGIENT MANSLAUGHTER      E18            520      NaN   \n",
       "319070                       WARRANT ARREST      E18            520      NaN   \n",
       "319071                       WARRANT ARREST      E13            569      NaN   \n",
       "319072                       WARRANT ARREST       D4            903      NaN   \n",
       "\n",
       "           OCCURRED_ON_DATE  YEAR  MONTH DAY_OF_WEEK  HOUR    UCR_PART  \\\n",
       "0       2018-09-02 13:00:00  2018      9      Sunday    13    Part One   \n",
       "1       2018-08-21 00:00:00  2018      8     Tuesday     0    Part Two   \n",
       "2       2018-09-03 19:27:00  2018      9      Monday    19  Part Three   \n",
       "3       2018-09-03 21:16:00  2018      9      Monday    21  Part Three   \n",
       "4       2018-09-03 21:05:00  2018      9      Monday    21  Part Three   \n",
       "...                     ...   ...    ...         ...   ...         ...   \n",
       "319068  2016-06-05 17:25:00  2016      6      Sunday    17  Part Three   \n",
       "319069  2015-07-09 13:38:00  2015      7    Thursday    13    Part One   \n",
       "319070  2015-07-09 13:38:00  2015      7    Thursday    13  Part Three   \n",
       "319071  2016-05-31 19:35:00  2016      5     Tuesday    19  Part Three   \n",
       "319072  2015-06-22 00:12:00  2015      6      Monday     0  Part Three   \n",
       "\n",
       "                   STREET        Lat       Long                     Location  \n",
       "0              LINCOLN ST  42.357791 -71.139371  (42.35779134, -71.13937053)  \n",
       "1                HECLA ST  42.306821 -71.060300  (42.30682138, -71.06030035)  \n",
       "2             CAZENOVE ST  42.346589 -71.072429  (42.34658879, -71.07242943)  \n",
       "3              NEWCOMB ST  42.334182 -71.078664  (42.33418175, -71.07866441)  \n",
       "4                DELHI ST  42.275365 -71.090361  (42.27536542, -71.09036101)  \n",
       "...                   ...        ...        ...                          ...  \n",
       "319068        COVENTRY ST  42.336951 -71.085748  (42.33695098, -71.08574813)  \n",
       "319069           RIVER ST  42.255926 -71.123172  (42.25592648, -71.12317207)  \n",
       "319070           RIVER ST  42.255926 -71.123172  (42.25592648, -71.12317207)  \n",
       "319071  NEW WASHINGTON ST  42.302333 -71.111565  (42.30233307, -71.11156487)  \n",
       "319072      WASHINGTON ST  42.333839 -71.080290  (42.33383935, -71.08029038)  \n",
       "\n",
       "[319073 rows x 17 columns]"
      ]
     },
     "execution_count": 3,
     "metadata": {},
     "output_type": "execute_result"
    }
   ],
   "source": [
    "crime_df"
   ]
  },
  {
   "cell_type": "code",
   "execution_count": 4,
   "metadata": {},
   "outputs": [
    {
     "name": "stdout",
     "output_type": "stream",
     "text": [
      "<class 'pandas.core.frame.DataFrame'>\n",
      "RangeIndex: 319073 entries, 0 to 319072\n",
      "Data columns (total 17 columns):\n",
      " #   Column               Non-Null Count   Dtype  \n",
      "---  ------               --------------   -----  \n",
      " 0   INCIDENT_NUMBER      319073 non-null  object \n",
      " 1   OFFENSE_CODE         319073 non-null  int64  \n",
      " 2   OFFENSE_CODE_GROUP   319073 non-null  object \n",
      " 3   OFFENSE_DESCRIPTION  319073 non-null  object \n",
      " 4   DISTRICT             317308 non-null  object \n",
      " 5   REPORTING_AREA       319073 non-null  object \n",
      " 6   SHOOTING             1019 non-null    object \n",
      " 7   OCCURRED_ON_DATE     319073 non-null  object \n",
      " 8   YEAR                 319073 non-null  int64  \n",
      " 9   MONTH                319073 non-null  int64  \n",
      " 10  DAY_OF_WEEK          319073 non-null  object \n",
      " 11  HOUR                 319073 non-null  int64  \n",
      " 12  UCR_PART             318983 non-null  object \n",
      " 13  STREET               308202 non-null  object \n",
      " 14  Lat                  299074 non-null  float64\n",
      " 15  Long                 299074 non-null  float64\n",
      " 16  Location             319073 non-null  object \n",
      "dtypes: float64(2), int64(4), object(11)\n",
      "memory usage: 41.4+ MB\n"
     ]
    }
   ],
   "source": [
    "crime_df.info()"
   ]
  },
  {
   "cell_type": "code",
   "execution_count": 5,
   "metadata": {},
   "outputs": [
    {
     "data": {
      "text/html": [
       "<div>\n",
       "<style scoped>\n",
       "    .dataframe tbody tr th:only-of-type {\n",
       "        vertical-align: middle;\n",
       "    }\n",
       "\n",
       "    .dataframe tbody tr th {\n",
       "        vertical-align: top;\n",
       "    }\n",
       "\n",
       "    .dataframe thead th {\n",
       "        text-align: right;\n",
       "    }\n",
       "</style>\n",
       "<table border=\"1\" class=\"dataframe\">\n",
       "  <thead>\n",
       "    <tr style=\"text-align: right;\">\n",
       "      <th></th>\n",
       "      <th>OFFENSE_CODE</th>\n",
       "      <th>YEAR</th>\n",
       "      <th>MONTH</th>\n",
       "      <th>HOUR</th>\n",
       "      <th>Lat</th>\n",
       "      <th>Long</th>\n",
       "    </tr>\n",
       "  </thead>\n",
       "  <tbody>\n",
       "    <tr>\n",
       "      <th>count</th>\n",
       "      <td>319073.000000</td>\n",
       "      <td>319073.000000</td>\n",
       "      <td>319073.000000</td>\n",
       "      <td>319073.000000</td>\n",
       "      <td>299074.000000</td>\n",
       "      <td>299074.000000</td>\n",
       "    </tr>\n",
       "    <tr>\n",
       "      <th>mean</th>\n",
       "      <td>2317.546956</td>\n",
       "      <td>2016.560586</td>\n",
       "      <td>6.609719</td>\n",
       "      <td>13.118205</td>\n",
       "      <td>42.214381</td>\n",
       "      <td>-70.908272</td>\n",
       "    </tr>\n",
       "    <tr>\n",
       "      <th>std</th>\n",
       "      <td>1185.285543</td>\n",
       "      <td>0.996344</td>\n",
       "      <td>3.273691</td>\n",
       "      <td>6.294205</td>\n",
       "      <td>2.159766</td>\n",
       "      <td>3.493618</td>\n",
       "    </tr>\n",
       "    <tr>\n",
       "      <th>min</th>\n",
       "      <td>111.000000</td>\n",
       "      <td>2015.000000</td>\n",
       "      <td>1.000000</td>\n",
       "      <td>0.000000</td>\n",
       "      <td>-1.000000</td>\n",
       "      <td>-71.178674</td>\n",
       "    </tr>\n",
       "    <tr>\n",
       "      <th>25%</th>\n",
       "      <td>1001.000000</td>\n",
       "      <td>2016.000000</td>\n",
       "      <td>4.000000</td>\n",
       "      <td>9.000000</td>\n",
       "      <td>42.297442</td>\n",
       "      <td>-71.097135</td>\n",
       "    </tr>\n",
       "    <tr>\n",
       "      <th>50%</th>\n",
       "      <td>2907.000000</td>\n",
       "      <td>2017.000000</td>\n",
       "      <td>7.000000</td>\n",
       "      <td>14.000000</td>\n",
       "      <td>42.325538</td>\n",
       "      <td>-71.077524</td>\n",
       "    </tr>\n",
       "    <tr>\n",
       "      <th>75%</th>\n",
       "      <td>3201.000000</td>\n",
       "      <td>2017.000000</td>\n",
       "      <td>9.000000</td>\n",
       "      <td>18.000000</td>\n",
       "      <td>42.348624</td>\n",
       "      <td>-71.062467</td>\n",
       "    </tr>\n",
       "    <tr>\n",
       "      <th>max</th>\n",
       "      <td>3831.000000</td>\n",
       "      <td>2018.000000</td>\n",
       "      <td>12.000000</td>\n",
       "      <td>23.000000</td>\n",
       "      <td>42.395042</td>\n",
       "      <td>-1.000000</td>\n",
       "    </tr>\n",
       "  </tbody>\n",
       "</table>\n",
       "</div>"
      ],
      "text/plain": [
       "        OFFENSE_CODE           YEAR          MONTH           HOUR  \\\n",
       "count  319073.000000  319073.000000  319073.000000  319073.000000   \n",
       "mean     2317.546956    2016.560586       6.609719      13.118205   \n",
       "std      1185.285543       0.996344       3.273691       6.294205   \n",
       "min       111.000000    2015.000000       1.000000       0.000000   \n",
       "25%      1001.000000    2016.000000       4.000000       9.000000   \n",
       "50%      2907.000000    2017.000000       7.000000      14.000000   \n",
       "75%      3201.000000    2017.000000       9.000000      18.000000   \n",
       "max      3831.000000    2018.000000      12.000000      23.000000   \n",
       "\n",
       "                 Lat           Long  \n",
       "count  299074.000000  299074.000000  \n",
       "mean       42.214381     -70.908272  \n",
       "std         2.159766       3.493618  \n",
       "min        -1.000000     -71.178674  \n",
       "25%        42.297442     -71.097135  \n",
       "50%        42.325538     -71.077524  \n",
       "75%        42.348624     -71.062467  \n",
       "max        42.395042      -1.000000  "
      ]
     },
     "execution_count": 5,
     "metadata": {},
     "output_type": "execute_result"
    }
   ],
   "source": [
    "crime_df.describe()"
   ]
  },
  {
   "cell_type": "code",
   "execution_count": 6,
   "metadata": {},
   "outputs": [
    {
     "name": "stdout",
     "output_type": "stream",
     "text": [
      "start date: 2015-06-15 00:00:00\n",
      "end date: 2018-09-03 21:25:00\n"
     ]
    }
   ],
   "source": [
    "crime_df['OCCURRED_ON_DATE'] = pd.to_datetime(crime_df['OCCURRED_ON_DATE'])\n",
    "crime_df['Lat'] = pd.to_numeric(crime_df['Lat'])\n",
    "crime_df['Long'] = pd.to_numeric(crime_df['Long'])\n",
    "print(\"start date:\", crime_df['OCCURRED_ON_DATE'].min())\n",
    "print(\"end date:\", crime_df['OCCURRED_ON_DATE'].max())"
   ]
  },
  {
   "cell_type": "code",
   "execution_count": 7,
   "metadata": {},
   "outputs": [
    {
     "data": {
      "text/html": [
       "<div>\n",
       "<style scoped>\n",
       "    .dataframe tbody tr th:only-of-type {\n",
       "        vertical-align: middle;\n",
       "    }\n",
       "\n",
       "    .dataframe tbody tr th {\n",
       "        vertical-align: top;\n",
       "    }\n",
       "\n",
       "    .dataframe thead th {\n",
       "        text-align: right;\n",
       "    }\n",
       "</style>\n",
       "<table border=\"1\" class=\"dataframe\">\n",
       "  <thead>\n",
       "    <tr style=\"text-align: right;\">\n",
       "      <th></th>\n",
       "      <th>INCIDENT_NUMBER</th>\n",
       "      <th>OFFENSE_CODE</th>\n",
       "      <th>OFFENSE_CODE_GROUP</th>\n",
       "      <th>OFFENSE_DESCRIPTION</th>\n",
       "      <th>DISTRICT</th>\n",
       "      <th>REPORTING_AREA</th>\n",
       "      <th>SHOOTING</th>\n",
       "      <th>OCCURRED_ON_DATE</th>\n",
       "      <th>YEAR</th>\n",
       "      <th>MONTH</th>\n",
       "      <th>DAY_OF_WEEK</th>\n",
       "      <th>HOUR</th>\n",
       "      <th>UCR_PART</th>\n",
       "      <th>STREET</th>\n",
       "      <th>Lat</th>\n",
       "      <th>Long</th>\n",
       "      <th>Location</th>\n",
       "    </tr>\n",
       "  </thead>\n",
       "  <tbody>\n",
       "    <tr>\n",
       "      <th>0</th>\n",
       "      <td>I182070945</td>\n",
       "      <td>619</td>\n",
       "      <td>Larceny</td>\n",
       "      <td>LARCENY ALL OTHERS</td>\n",
       "      <td>D14</td>\n",
       "      <td>808</td>\n",
       "      <td>NaN</td>\n",
       "      <td>2018-09-02 13:00:00</td>\n",
       "      <td>2018</td>\n",
       "      <td>9</td>\n",
       "      <td>Sunday</td>\n",
       "      <td>13</td>\n",
       "      <td>Part One</td>\n",
       "      <td>LINCOLN ST</td>\n",
       "      <td>42.357791</td>\n",
       "      <td>-71.139371</td>\n",
       "      <td>(42.35779134, -71.13937053)</td>\n",
       "    </tr>\n",
       "    <tr>\n",
       "      <th>1</th>\n",
       "      <td>I182070943</td>\n",
       "      <td>1402</td>\n",
       "      <td>Vandalism</td>\n",
       "      <td>VANDALISM</td>\n",
       "      <td>C11</td>\n",
       "      <td>347</td>\n",
       "      <td>NaN</td>\n",
       "      <td>2018-08-21 00:00:00</td>\n",
       "      <td>2018</td>\n",
       "      <td>8</td>\n",
       "      <td>Tuesday</td>\n",
       "      <td>0</td>\n",
       "      <td>Part Two</td>\n",
       "      <td>HECLA ST</td>\n",
       "      <td>42.306821</td>\n",
       "      <td>-71.060300</td>\n",
       "      <td>(42.30682138, -71.06030035)</td>\n",
       "    </tr>\n",
       "    <tr>\n",
       "      <th>2</th>\n",
       "      <td>I182070941</td>\n",
       "      <td>3410</td>\n",
       "      <td>Towed</td>\n",
       "      <td>TOWED MOTOR VEHICLE</td>\n",
       "      <td>D4</td>\n",
       "      <td>151</td>\n",
       "      <td>NaN</td>\n",
       "      <td>2018-09-03 19:27:00</td>\n",
       "      <td>2018</td>\n",
       "      <td>9</td>\n",
       "      <td>Monday</td>\n",
       "      <td>19</td>\n",
       "      <td>Part Three</td>\n",
       "      <td>CAZENOVE ST</td>\n",
       "      <td>42.346589</td>\n",
       "      <td>-71.072429</td>\n",
       "      <td>(42.34658879, -71.07242943)</td>\n",
       "    </tr>\n",
       "    <tr>\n",
       "      <th>3</th>\n",
       "      <td>I182070940</td>\n",
       "      <td>3114</td>\n",
       "      <td>Investigate Property</td>\n",
       "      <td>INVESTIGATE PROPERTY</td>\n",
       "      <td>D4</td>\n",
       "      <td>272</td>\n",
       "      <td>NaN</td>\n",
       "      <td>2018-09-03 21:16:00</td>\n",
       "      <td>2018</td>\n",
       "      <td>9</td>\n",
       "      <td>Monday</td>\n",
       "      <td>21</td>\n",
       "      <td>Part Three</td>\n",
       "      <td>NEWCOMB ST</td>\n",
       "      <td>42.334182</td>\n",
       "      <td>-71.078664</td>\n",
       "      <td>(42.33418175, -71.07866441)</td>\n",
       "    </tr>\n",
       "    <tr>\n",
       "      <th>4</th>\n",
       "      <td>I182070938</td>\n",
       "      <td>3114</td>\n",
       "      <td>Investigate Property</td>\n",
       "      <td>INVESTIGATE PROPERTY</td>\n",
       "      <td>B3</td>\n",
       "      <td>421</td>\n",
       "      <td>NaN</td>\n",
       "      <td>2018-09-03 21:05:00</td>\n",
       "      <td>2018</td>\n",
       "      <td>9</td>\n",
       "      <td>Monday</td>\n",
       "      <td>21</td>\n",
       "      <td>Part Three</td>\n",
       "      <td>DELHI ST</td>\n",
       "      <td>42.275365</td>\n",
       "      <td>-71.090361</td>\n",
       "      <td>(42.27536542, -71.09036101)</td>\n",
       "    </tr>\n",
       "  </tbody>\n",
       "</table>\n",
       "</div>"
      ],
      "text/plain": [
       "  INCIDENT_NUMBER  OFFENSE_CODE    OFFENSE_CODE_GROUP   OFFENSE_DESCRIPTION  \\\n",
       "0      I182070945           619               Larceny    LARCENY ALL OTHERS   \n",
       "1      I182070943          1402             Vandalism             VANDALISM   \n",
       "2      I182070941          3410                 Towed   TOWED MOTOR VEHICLE   \n",
       "3      I182070940          3114  Investigate Property  INVESTIGATE PROPERTY   \n",
       "4      I182070938          3114  Investigate Property  INVESTIGATE PROPERTY   \n",
       "\n",
       "  DISTRICT REPORTING_AREA SHOOTING    OCCURRED_ON_DATE  YEAR  MONTH  \\\n",
       "0      D14            808      NaN 2018-09-02 13:00:00  2018      9   \n",
       "1      C11            347      NaN 2018-08-21 00:00:00  2018      8   \n",
       "2       D4            151      NaN 2018-09-03 19:27:00  2018      9   \n",
       "3       D4            272      NaN 2018-09-03 21:16:00  2018      9   \n",
       "4       B3            421      NaN 2018-09-03 21:05:00  2018      9   \n",
       "\n",
       "  DAY_OF_WEEK  HOUR    UCR_PART       STREET        Lat       Long  \\\n",
       "0      Sunday    13    Part One   LINCOLN ST  42.357791 -71.139371   \n",
       "1     Tuesday     0    Part Two     HECLA ST  42.306821 -71.060300   \n",
       "2      Monday    19  Part Three  CAZENOVE ST  42.346589 -71.072429   \n",
       "3      Monday    21  Part Three   NEWCOMB ST  42.334182 -71.078664   \n",
       "4      Monday    21  Part Three     DELHI ST  42.275365 -71.090361   \n",
       "\n",
       "                      Location  \n",
       "0  (42.35779134, -71.13937053)  \n",
       "1  (42.30682138, -71.06030035)  \n",
       "2  (42.34658879, -71.07242943)  \n",
       "3  (42.33418175, -71.07866441)  \n",
       "4  (42.27536542, -71.09036101)  "
      ]
     },
     "execution_count": 7,
     "metadata": {},
     "output_type": "execute_result"
    }
   ],
   "source": [
    "crime_df.head(5)"
   ]
  },
  {
   "cell_type": "code",
   "execution_count": 8,
   "metadata": {},
   "outputs": [
    {
     "data": {
      "text/plain": [
       "array([2018, 2017, 2016, 2015])"
      ]
     },
     "execution_count": 8,
     "metadata": {},
     "output_type": "execute_result"
    }
   ],
   "source": [
    "crime_df['YEAR'].unique()"
   ]
  },
  {
   "cell_type": "code",
   "execution_count": 9,
   "metadata": {},
   "outputs": [
    {
     "data": {
      "text/plain": [
       "INCIDENT_NUMBER        False\n",
       "OFFENSE_CODE           False\n",
       "OFFENSE_CODE_GROUP     False\n",
       "OFFENSE_DESCRIPTION    False\n",
       "DISTRICT               False\n",
       "REPORTING_AREA         False\n",
       "SHOOTING               False\n",
       "OCCURRED_ON_DATE       False\n",
       "YEAR                   False\n",
       "MONTH                  False\n",
       "DAY_OF_WEEK            False\n",
       "HOUR                   False\n",
       "UCR_PART               False\n",
       "STREET                 False\n",
       "Lat                    False\n",
       "Long                   False\n",
       "Location               False\n",
       "dtype: bool"
      ]
     },
     "execution_count": 9,
     "metadata": {},
     "output_type": "execute_result"
    }
   ],
   "source": [
    "np.isnan(crime_df.any())"
   ]
  },
  {
   "cell_type": "code",
   "execution_count": 10,
   "metadata": {},
   "outputs": [
    {
     "data": {
      "text/plain": [
       "array(['D14', 'C11', 'D4', 'B3', 'B2', 'C6', nan, 'A1', 'E5', 'A7', 'E13',\n",
       "       'E18', 'A15'], dtype=object)"
      ]
     },
     "execution_count": 10,
     "metadata": {},
     "output_type": "execute_result"
    }
   ],
   "source": [
    "crime_df['DISTRICT'].unique()"
   ]
  },
  {
   "cell_type": "markdown",
   "metadata": {},
   "source": [
    "Top 5 offense code group "
   ]
  },
  {
   "cell_type": "code",
   "execution_count": 11,
   "metadata": {},
   "outputs": [],
   "source": [
    "offense = pd.pivot_table(crime_df.loc[:,['OFFENSE_CODE_GROUP', 'YEAR', 'OFFENSE_CODE']], index='OFFENSE_CODE_GROUP', \\\n",
    "                columns='YEAR', aggfunc=np.count_nonzero)"
   ]
  },
  {
   "cell_type": "code",
   "execution_count": 12,
   "metadata": {},
   "outputs": [],
   "source": [
    "summary = pd.DataFrame(offense.apply(np.sum, axis=1))\n",
    "summary = summary.rename(columns={0:'total'})"
   ]
  },
  {
   "cell_type": "code",
   "execution_count": 13,
   "metadata": {},
   "outputs": [
    {
     "data": {
      "text/html": [
       "<div>\n",
       "<style scoped>\n",
       "    .dataframe tbody tr th:only-of-type {\n",
       "        vertical-align: middle;\n",
       "    }\n",
       "\n",
       "    .dataframe tbody tr th {\n",
       "        vertical-align: top;\n",
       "    }\n",
       "\n",
       "    .dataframe thead th {\n",
       "        text-align: right;\n",
       "    }\n",
       "</style>\n",
       "<table border=\"1\" class=\"dataframe\">\n",
       "  <thead>\n",
       "    <tr style=\"text-align: right;\">\n",
       "      <th></th>\n",
       "      <th>total</th>\n",
       "    </tr>\n",
       "    <tr>\n",
       "      <th>OFFENSE_CODE_GROUP</th>\n",
       "      <th></th>\n",
       "    </tr>\n",
       "  </thead>\n",
       "  <tbody>\n",
       "    <tr>\n",
       "      <th>Motor Vehicle Accident Response</th>\n",
       "      <td>37132.0</td>\n",
       "    </tr>\n",
       "    <tr>\n",
       "      <th>Larceny</th>\n",
       "      <td>25935.0</td>\n",
       "    </tr>\n",
       "    <tr>\n",
       "      <th>Medical Assistance</th>\n",
       "      <td>23540.0</td>\n",
       "    </tr>\n",
       "    <tr>\n",
       "      <th>Investigate Person</th>\n",
       "      <td>18750.0</td>\n",
       "    </tr>\n",
       "    <tr>\n",
       "      <th>Other</th>\n",
       "      <td>18075.0</td>\n",
       "    </tr>\n",
       "  </tbody>\n",
       "</table>\n",
       "</div>"
      ],
      "text/plain": [
       "                                   total\n",
       "OFFENSE_CODE_GROUP                      \n",
       "Motor Vehicle Accident Response  37132.0\n",
       "Larceny                          25935.0\n",
       "Medical Assistance               23540.0\n",
       "Investigate Person               18750.0\n",
       "Other                            18075.0"
      ]
     },
     "execution_count": 13,
     "metadata": {},
     "output_type": "execute_result"
    }
   ],
   "source": [
    "sumsort = summary.sort_values(by='total', ascending=False)\n",
    "top5 = sumsort.iloc[0:5,:]\n",
    "top5 "
   ]
  },
  {
   "cell_type": "code",
   "execution_count": 14,
   "metadata": {},
   "outputs": [
    {
     "data": {
      "image/png": "[encoded data removed]",
      "text/plain": [
       "<Figure size 1080x1008 with 1 Axes>"
      ]
     },
     "metadata": {},
     "output_type": "display_data"
    }
   ],
   "source": [
    "sns.set()\n",
    "p0 = plt.figure(figsize=(15,14))\n",
    "plt.title(r'2015-2018 top 5 group bar plot')\n",
    "plt.bar(range(top5.index.shape[0]), top5.loc[:, 'total'])\n",
    "plt.xlabel('OFFENSE_CODE_GROUP')\n",
    "plt.xticks(range(top5.index.shape[0]), top5.index)\n",
    "x = np.arange(top5.index.shape[0])\n",
    "y = np.array(top5['total'])\n",
    "for i,j in zip(x,y):\n",
    "    plt.text(i,j, '%d'%j, ha='center')\n",
    "p0.savefig('./top5_group_bar.png')\n",
    "plt.show()"
   ]
  },
  {
   "cell_type": "markdown",
   "metadata": {},
   "source": [
    "## Visualization by DISTRICT "
   ]
  },
  {
   "cell_type": "code",
   "execution_count": 15,
   "metadata": {},
   "outputs": [],
   "source": [
    "disgroup = crime_df.groupby(by='DISTRICT')"
   ]
  },
  {
   "cell_type": "code",
   "execution_count": 16,
   "metadata": {},
   "outputs": [],
   "source": [
    "groupcount = disgroup.count()"
   ]
  },
  {
   "cell_type": "code",
   "execution_count": 17,
   "metadata": {},
   "outputs": [
    {
     "data": {
      "text/html": [
       "<div>\n",
       "<style scoped>\n",
       "    .dataframe tbody tr th:only-of-type {\n",
       "        vertical-align: middle;\n",
       "    }\n",
       "\n",
       "    .dataframe tbody tr th {\n",
       "        vertical-align: top;\n",
       "    }\n",
       "\n",
       "    .dataframe thead th {\n",
       "        text-align: right;\n",
       "    }\n",
       "</style>\n",
       "<table border=\"1\" class=\"dataframe\">\n",
       "  <thead>\n",
       "    <tr style=\"text-align: right;\">\n",
       "      <th></th>\n",
       "      <th>INCIDENT_NUMBER</th>\n",
       "      <th>OFFENSE_CODE</th>\n",
       "      <th>OFFENSE_CODE_GROUP</th>\n",
       "      <th>OFFENSE_DESCRIPTION</th>\n",
       "      <th>REPORTING_AREA</th>\n",
       "      <th>SHOOTING</th>\n",
       "      <th>OCCURRED_ON_DATE</th>\n",
       "      <th>YEAR</th>\n",
       "      <th>MONTH</th>\n",
       "      <th>DAY_OF_WEEK</th>\n",
       "      <th>HOUR</th>\n",
       "      <th>UCR_PART</th>\n",
       "      <th>STREET</th>\n",
       "      <th>Lat</th>\n",
       "      <th>Long</th>\n",
       "      <th>Location</th>\n",
       "    </tr>\n",
       "    <tr>\n",
       "      <th>DISTRICT</th>\n",
       "      <th></th>\n",
       "      <th></th>\n",
       "      <th></th>\n",
       "      <th></th>\n",
       "      <th></th>\n",
       "      <th></th>\n",
       "      <th></th>\n",
       "      <th></th>\n",
       "      <th></th>\n",
       "      <th></th>\n",
       "      <th></th>\n",
       "      <th></th>\n",
       "      <th></th>\n",
       "      <th></th>\n",
       "      <th></th>\n",
       "      <th></th>\n",
       "    </tr>\n",
       "  </thead>\n",
       "  <tbody>\n",
       "    <tr>\n",
       "      <th>A1</th>\n",
       "      <td>35717</td>\n",
       "      <td>35717</td>\n",
       "      <td>35717</td>\n",
       "      <td>35717</td>\n",
       "      <td>35717</td>\n",
       "      <td>11</td>\n",
       "      <td>35717</td>\n",
       "      <td>35717</td>\n",
       "      <td>35717</td>\n",
       "      <td>35717</td>\n",
       "      <td>35717</td>\n",
       "      <td>35715</td>\n",
       "      <td>34179</td>\n",
       "      <td>32301</td>\n",
       "      <td>32301</td>\n",
       "      <td>35717</td>\n",
       "    </tr>\n",
       "    <tr>\n",
       "      <th>A15</th>\n",
       "      <td>6505</td>\n",
       "      <td>6505</td>\n",
       "      <td>6505</td>\n",
       "      <td>6505</td>\n",
       "      <td>6505</td>\n",
       "      <td>5</td>\n",
       "      <td>6505</td>\n",
       "      <td>6505</td>\n",
       "      <td>6505</td>\n",
       "      <td>6505</td>\n",
       "      <td>6505</td>\n",
       "      <td>6505</td>\n",
       "      <td>6330</td>\n",
       "      <td>6170</td>\n",
       "      <td>6170</td>\n",
       "      <td>6505</td>\n",
       "    </tr>\n",
       "    <tr>\n",
       "      <th>A7</th>\n",
       "      <td>13544</td>\n",
       "      <td>13544</td>\n",
       "      <td>13544</td>\n",
       "      <td>13544</td>\n",
       "      <td>13544</td>\n",
       "      <td>14</td>\n",
       "      <td>13544</td>\n",
       "      <td>13544</td>\n",
       "      <td>13544</td>\n",
       "      <td>13544</td>\n",
       "      <td>13544</td>\n",
       "      <td>13541</td>\n",
       "      <td>13244</td>\n",
       "      <td>13024</td>\n",
       "      <td>13024</td>\n",
       "      <td>13544</td>\n",
       "    </tr>\n",
       "    <tr>\n",
       "      <th>B2</th>\n",
       "      <td>49945</td>\n",
       "      <td>49945</td>\n",
       "      <td>49945</td>\n",
       "      <td>49945</td>\n",
       "      <td>49945</td>\n",
       "      <td>344</td>\n",
       "      <td>49945</td>\n",
       "      <td>49945</td>\n",
       "      <td>49945</td>\n",
       "      <td>49945</td>\n",
       "      <td>49945</td>\n",
       "      <td>49929</td>\n",
       "      <td>48132</td>\n",
       "      <td>46207</td>\n",
       "      <td>46207</td>\n",
       "      <td>49945</td>\n",
       "    </tr>\n",
       "    <tr>\n",
       "      <th>B3</th>\n",
       "      <td>35442</td>\n",
       "      <td>35442</td>\n",
       "      <td>35442</td>\n",
       "      <td>35442</td>\n",
       "      <td>35442</td>\n",
       "      <td>221</td>\n",
       "      <td>35442</td>\n",
       "      <td>35442</td>\n",
       "      <td>35442</td>\n",
       "      <td>35442</td>\n",
       "      <td>35442</td>\n",
       "      <td>35429</td>\n",
       "      <td>34687</td>\n",
       "      <td>33701</td>\n",
       "      <td>33701</td>\n",
       "      <td>35442</td>\n",
       "    </tr>\n",
       "  </tbody>\n",
       "</table>\n",
       "</div>"
      ],
      "text/plain": [
       "          INCIDENT_NUMBER  OFFENSE_CODE  OFFENSE_CODE_GROUP  \\\n",
       "DISTRICT                                                      \n",
       "A1                  35717         35717               35717   \n",
       "A15                  6505          6505                6505   \n",
       "A7                  13544         13544               13544   \n",
       "B2                  49945         49945               49945   \n",
       "B3                  35442         35442               35442   \n",
       "\n",
       "          OFFENSE_DESCRIPTION  REPORTING_AREA  SHOOTING  OCCURRED_ON_DATE  \\\n",
       "DISTRICT                                                                    \n",
       "A1                      35717           35717        11             35717   \n",
       "A15                      6505            6505         5              6505   \n",
       "A7                      13544           13544        14             13544   \n",
       "B2                      49945           49945       344             49945   \n",
       "B3                      35442           35442       221             35442   \n",
       "\n",
       "           YEAR  MONTH  DAY_OF_WEEK   HOUR  UCR_PART  STREET    Lat   Long  \\\n",
       "DISTRICT                                                                     \n",
       "A1        35717  35717        35717  35717     35715   34179  32301  32301   \n",
       "A15        6505   6505         6505   6505      6505    6330   6170   6170   \n",
       "A7        13544  13544        13544  13544     13541   13244  13024  13024   \n",
       "B2        49945  49945        49945  49945     49929   48132  46207  46207   \n",
       "B3        35442  35442        35442  35442     35429   34687  33701  33701   \n",
       "\n",
       "          Location  \n",
       "DISTRICT            \n",
       "A1           35717  \n",
       "A15           6505  \n",
       "A7           13544  \n",
       "B2           49945  \n",
       "B3           35442  "
      ]
     },
     "execution_count": 17,
     "metadata": {},
     "output_type": "execute_result"
    }
   ],
   "source": [
    "groupcount.head()"
   ]
  },
  {
   "cell_type": "code",
   "execution_count": 18,
   "metadata": {},
   "outputs": [],
   "source": [
    "number = groupcount.iloc[:,0]\n",
    "number = pd.DataFrame(number)"
   ]
  },
  {
   "cell_type": "code",
   "execution_count": 19,
   "metadata": {},
   "outputs": [
    {
     "data": {
      "text/html": [
       "<div>\n",
       "<style scoped>\n",
       "    .dataframe tbody tr th:only-of-type {\n",
       "        vertical-align: middle;\n",
       "    }\n",
       "\n",
       "    .dataframe tbody tr th {\n",
       "        vertical-align: top;\n",
       "    }\n",
       "\n",
       "    .dataframe thead th {\n",
       "        text-align: right;\n",
       "    }\n",
       "</style>\n",
       "<table border=\"1\" class=\"dataframe\">\n",
       "  <thead>\n",
       "    <tr style=\"text-align: right;\">\n",
       "      <th></th>\n",
       "      <th>NUMBER</th>\n",
       "    </tr>\n",
       "    <tr>\n",
       "      <th>DISTRICT</th>\n",
       "      <th></th>\n",
       "    </tr>\n",
       "  </thead>\n",
       "  <tbody>\n",
       "    <tr>\n",
       "      <th>A1</th>\n",
       "      <td>35717</td>\n",
       "    </tr>\n",
       "    <tr>\n",
       "      <th>A15</th>\n",
       "      <td>6505</td>\n",
       "    </tr>\n",
       "    <tr>\n",
       "      <th>A7</th>\n",
       "      <td>13544</td>\n",
       "    </tr>\n",
       "    <tr>\n",
       "      <th>B2</th>\n",
       "      <td>49945</td>\n",
       "    </tr>\n",
       "    <tr>\n",
       "      <th>B3</th>\n",
       "      <td>35442</td>\n",
       "    </tr>\n",
       "  </tbody>\n",
       "</table>\n",
       "</div>"
      ],
      "text/plain": [
       "          NUMBER\n",
       "DISTRICT        \n",
       "A1         35717\n",
       "A15         6505\n",
       "A7         13544\n",
       "B2         49945\n",
       "B3         35442"
      ]
     },
     "execution_count": 19,
     "metadata": {},
     "output_type": "execute_result"
    }
   ],
   "source": [
    "number.rename(columns={'INCIDENT_NUMBER':'NUMBER'}, inplace=True)\n",
    "number.head()"
   ]
  },
  {
   "cell_type": "code",
   "execution_count": 20,
   "metadata": {},
   "outputs": [
    {
     "data": {
      "image/png": "[encoded data removed]",
      "text/plain": [
       "<Figure size 1080x1008 with 1 Axes>"
      ]
     },
     "metadata": {},
     "output_type": "display_data"
    }
   ],
   "source": [
    "plt.figure(figsize=(15,14))\n",
    "plt.title(r'2015-2018 boston-crime by district bar plot')\n",
    "p1 = sns.barplot(x=number.index, y='NUMBER', data=number)\n",
    "x = np.arange(number.index.shape[0])\n",
    "y = np.array(list(number['NUMBER']))\n",
    "for i,j in zip(x,y):\n",
    "    plt.text(i,j+0.05, '%d'%j, ha='center')\n",
    "else:\n",
    "    pass\n",
    "p1fig = p1.get_figure()\n",
    "p1fig.savefig('./total_by_district_bar.png')\n",
    "plt.show()"
   ]
  },
  {
   "cell_type": "markdown",
   "metadata": {},
   "source": [
    "District B2 has the highest number of crimes. C11 and D4 are more elevated than other districts. A15 is the least. "
   ]
  },
  {
   "cell_type": "code",
   "execution_count": 21,
   "metadata": {},
   "outputs": [],
   "source": [
    "districtsorted = number.sort_values(by ='NUMBER', ascending=False)"
   ]
  },
  {
   "cell_type": "code",
   "execution_count": 22,
   "metadata": {},
   "outputs": [],
   "source": [
    "top5 = districtsorted.iloc[0:5,:]"
   ]
  },
  {
   "cell_type": "code",
   "execution_count": 23,
   "metadata": {},
   "outputs": [
    {
     "data": {
      "image/png": "[encoded data removed]",
      "text/plain": [
       "<Figure size 1080x1008 with 1 Axes>"
      ]
     },
     "metadata": {},
     "output_type": "display_data"
    }
   ],
   "source": [
    "plt.figure(figsize=(15,14))\n",
    "plt.title(r'top5 district crime bar plot')\n",
    "p2 = sns.barplot(x=top5.index, y='NUMBER',data=top5)\n",
    "x = np.arange(top5.index.shape[0])\n",
    "y = np.array(list(top5['NUMBER']))\n",
    "for i,j in zip(x,y):\n",
    "    plt.text(i,j+0.05,'%d'%j, ha='center')\n",
    "else:\n",
    "    pass\n",
    "p2fig = p2.get_figure()\n",
    "p2fig.savefig('./top5_district_crime_bar.png')\n",
    "plt.show()"
   ]
  },
  {
   "cell_type": "markdown",
   "metadata": {},
   "source": [
    "## Visualization by YEAR "
   ]
  },
  {
   "cell_type": "code",
   "execution_count": 24,
   "metadata": {},
   "outputs": [],
   "source": [
    "yeargroup = crime_df.groupby(by='YEAR')"
   ]
  },
  {
   "cell_type": "code",
   "execution_count": 25,
   "metadata": {},
   "outputs": [],
   "source": [
    "count = yeargroup.count()"
   ]
  },
  {
   "cell_type": "code",
   "execution_count": 26,
   "metadata": {},
   "outputs": [],
   "source": [
    "yearnumber = pd.DataFrame(count.iloc[:,0])"
   ]
  },
  {
   "cell_type": "code",
   "execution_count": 27,
   "metadata": {},
   "outputs": [],
   "source": [
    "yearnumber.rename(columns={'INCIDENT_NUMBER':'NUMBER'}, inplace=True)"
   ]
  },
  {
   "cell_type": "code",
   "execution_count": 28,
   "metadata": {},
   "outputs": [
    {
     "data": {
      "text/html": [
       "<div>\n",
       "<style scoped>\n",
       "    .dataframe tbody tr th:only-of-type {\n",
       "        vertical-align: middle;\n",
       "    }\n",
       "\n",
       "    .dataframe tbody tr th {\n",
       "        vertical-align: top;\n",
       "    }\n",
       "\n",
       "    .dataframe thead th {\n",
       "        text-align: right;\n",
       "    }\n",
       "</style>\n",
       "<table border=\"1\" class=\"dataframe\">\n",
       "  <thead>\n",
       "    <tr style=\"text-align: right;\">\n",
       "      <th></th>\n",
       "      <th>NUMBER</th>\n",
       "    </tr>\n",
       "    <tr>\n",
       "      <th>YEAR</th>\n",
       "      <th></th>\n",
       "    </tr>\n",
       "  </thead>\n",
       "  <tbody>\n",
       "    <tr>\n",
       "      <th>2015</th>\n",
       "      <td>53388</td>\n",
       "    </tr>\n",
       "    <tr>\n",
       "      <th>2016</th>\n",
       "      <td>99114</td>\n",
       "    </tr>\n",
       "    <tr>\n",
       "      <th>2017</th>\n",
       "      <td>100886</td>\n",
       "    </tr>\n",
       "    <tr>\n",
       "      <th>2018</th>\n",
       "      <td>65685</td>\n",
       "    </tr>\n",
       "  </tbody>\n",
       "</table>\n",
       "</div>"
      ],
      "text/plain": [
       "      NUMBER\n",
       "YEAR        \n",
       "2015   53388\n",
       "2016   99114\n",
       "2017  100886\n",
       "2018   65685"
      ]
     },
     "execution_count": 28,
     "metadata": {},
     "output_type": "execute_result"
    }
   ],
   "source": [
    "yearnumber"
   ]
  },
  {
   "cell_type": "markdown",
   "metadata": {},
   "source": [
    "The maximum number of crimes happened in 2017. "
   ]
  },
  {
   "cell_type": "code",
   "execution_count": 29,
   "metadata": {},
   "outputs": [
    {
     "data": {
      "image/png": "[encoded data removed]",
      "text/plain": [
       "<Figure size 1080x1008 with 1 Axes>"
      ]
     },
     "metadata": {},
     "output_type": "display_data"
    }
   ],
   "source": [
    "plt.figure(figsize=(15,14))\n",
    "plt.title(r'2015-2018 crime by year bar plot')\n",
    "p3 = sns.barplot(x=yearnumber.index, y='NUMBER', data=yearnumber)\n",
    "x = np.arange(yearnumber.index.shape[0])\n",
    "y = np.array(list(yearnumber['NUMBER']))\n",
    "for i, j in zip(x,y):\n",
    "    plt.text(i,j,'%d'%j, ha='center', va='bottom')\n",
    "else:\n",
    "    pass\n",
    "p3fig = p3.get_figure()\n",
    "p3fig.savefig('./total_by_year_bar.png')\n",
    "plt.show()"
   ]
  },
  {
   "cell_type": "markdown",
   "metadata": {},
   "source": [
    "The maximum number of crimes in 2017 and 2015 is the lowest; this may be caused by people getting more depressive by year."
   ]
  },
  {
   "cell_type": "markdown",
   "metadata": {},
   "source": [
    "## Shooting crime summary and Visualization "
   ]
  },
  {
   "cell_type": "code",
   "execution_count": 30,
   "metadata": {},
   "outputs": [
    {
     "data": {
      "text/plain": [
       "array([nan, 'Y'], dtype=object)"
      ]
     },
     "execution_count": 30,
     "metadata": {},
     "output_type": "execute_result"
    }
   ],
   "source": [
    "crime_df['SHOOTING'].unique()"
   ]
  },
  {
   "cell_type": "code",
   "execution_count": 31,
   "metadata": {},
   "outputs": [
    {
     "data": {
      "text/plain": [
       "(319073, 17)"
      ]
     },
     "execution_count": 31,
     "metadata": {},
     "output_type": "execute_result"
    }
   ],
   "source": [
    "crime_df.shape "
   ]
  },
  {
   "cell_type": "code",
   "execution_count": 32,
   "metadata": {},
   "outputs": [],
   "source": [
    "crime_df['SHOOTING']=crime_df['SHOOTING'].fillna('N')"
   ]
  },
  {
   "cell_type": "code",
   "execution_count": 33,
   "metadata": {},
   "outputs": [
    {
     "data": {
      "text/plain": [
       "array(['N', 'Y'], dtype=object)"
      ]
     },
     "execution_count": 33,
     "metadata": {},
     "output_type": "execute_result"
    }
   ],
   "source": [
    "crime_df['SHOOTING'].unique()"
   ]
  },
  {
   "cell_type": "code",
   "execution_count": 34,
   "metadata": {},
   "outputs": [
    {
     "data": {
      "text/html": [
       "<div>\n",
       "<style scoped>\n",
       "    .dataframe tbody tr th:only-of-type {\n",
       "        vertical-align: middle;\n",
       "    }\n",
       "\n",
       "    .dataframe tbody tr th {\n",
       "        vertical-align: top;\n",
       "    }\n",
       "\n",
       "    .dataframe thead th {\n",
       "        text-align: right;\n",
       "    }\n",
       "</style>\n",
       "<table border=\"1\" class=\"dataframe\">\n",
       "  <thead>\n",
       "    <tr style=\"text-align: right;\">\n",
       "      <th></th>\n",
       "      <th>INCIDENT_NUMBER</th>\n",
       "      <th>OFFENSE_CODE</th>\n",
       "      <th>OFFENSE_CODE_GROUP</th>\n",
       "      <th>OFFENSE_DESCRIPTION</th>\n",
       "      <th>DISTRICT</th>\n",
       "      <th>REPORTING_AREA</th>\n",
       "      <th>SHOOTING</th>\n",
       "      <th>OCCURRED_ON_DATE</th>\n",
       "      <th>YEAR</th>\n",
       "      <th>MONTH</th>\n",
       "      <th>DAY_OF_WEEK</th>\n",
       "      <th>HOUR</th>\n",
       "      <th>UCR_PART</th>\n",
       "      <th>STREET</th>\n",
       "      <th>Lat</th>\n",
       "      <th>Long</th>\n",
       "      <th>Location</th>\n",
       "    </tr>\n",
       "  </thead>\n",
       "  <tbody>\n",
       "    <tr>\n",
       "      <th>0</th>\n",
       "      <td>I182070945</td>\n",
       "      <td>619</td>\n",
       "      <td>Larceny</td>\n",
       "      <td>LARCENY ALL OTHERS</td>\n",
       "      <td>D14</td>\n",
       "      <td>808</td>\n",
       "      <td>N</td>\n",
       "      <td>2018-09-02 13:00:00</td>\n",
       "      <td>2018</td>\n",
       "      <td>9</td>\n",
       "      <td>Sunday</td>\n",
       "      <td>13</td>\n",
       "      <td>Part One</td>\n",
       "      <td>LINCOLN ST</td>\n",
       "      <td>42.357791</td>\n",
       "      <td>-71.139371</td>\n",
       "      <td>(42.35779134, -71.13937053)</td>\n",
       "    </tr>\n",
       "    <tr>\n",
       "      <th>1</th>\n",
       "      <td>I182070943</td>\n",
       "      <td>1402</td>\n",
       "      <td>Vandalism</td>\n",
       "      <td>VANDALISM</td>\n",
       "      <td>C11</td>\n",
       "      <td>347</td>\n",
       "      <td>N</td>\n",
       "      <td>2018-08-21 00:00:00</td>\n",
       "      <td>2018</td>\n",
       "      <td>8</td>\n",
       "      <td>Tuesday</td>\n",
       "      <td>0</td>\n",
       "      <td>Part Two</td>\n",
       "      <td>HECLA ST</td>\n",
       "      <td>42.306821</td>\n",
       "      <td>-71.060300</td>\n",
       "      <td>(42.30682138, -71.06030035)</td>\n",
       "    </tr>\n",
       "    <tr>\n",
       "      <th>2</th>\n",
       "      <td>I182070941</td>\n",
       "      <td>3410</td>\n",
       "      <td>Towed</td>\n",
       "      <td>TOWED MOTOR VEHICLE</td>\n",
       "      <td>D4</td>\n",
       "      <td>151</td>\n",
       "      <td>N</td>\n",
       "      <td>2018-09-03 19:27:00</td>\n",
       "      <td>2018</td>\n",
       "      <td>9</td>\n",
       "      <td>Monday</td>\n",
       "      <td>19</td>\n",
       "      <td>Part Three</td>\n",
       "      <td>CAZENOVE ST</td>\n",
       "      <td>42.346589</td>\n",
       "      <td>-71.072429</td>\n",
       "      <td>(42.34658879, -71.07242943)</td>\n",
       "    </tr>\n",
       "    <tr>\n",
       "      <th>3</th>\n",
       "      <td>I182070940</td>\n",
       "      <td>3114</td>\n",
       "      <td>Investigate Property</td>\n",
       "      <td>INVESTIGATE PROPERTY</td>\n",
       "      <td>D4</td>\n",
       "      <td>272</td>\n",
       "      <td>N</td>\n",
       "      <td>2018-09-03 21:16:00</td>\n",
       "      <td>2018</td>\n",
       "      <td>9</td>\n",
       "      <td>Monday</td>\n",
       "      <td>21</td>\n",
       "      <td>Part Three</td>\n",
       "      <td>NEWCOMB ST</td>\n",
       "      <td>42.334182</td>\n",
       "      <td>-71.078664</td>\n",
       "      <td>(42.33418175, -71.07866441)</td>\n",
       "    </tr>\n",
       "    <tr>\n",
       "      <th>4</th>\n",
       "      <td>I182070938</td>\n",
       "      <td>3114</td>\n",
       "      <td>Investigate Property</td>\n",
       "      <td>INVESTIGATE PROPERTY</td>\n",
       "      <td>B3</td>\n",
       "      <td>421</td>\n",
       "      <td>N</td>\n",
       "      <td>2018-09-03 21:05:00</td>\n",
       "      <td>2018</td>\n",
       "      <td>9</td>\n",
       "      <td>Monday</td>\n",
       "      <td>21</td>\n",
       "      <td>Part Three</td>\n",
       "      <td>DELHI ST</td>\n",
       "      <td>42.275365</td>\n",
       "      <td>-71.090361</td>\n",
       "      <td>(42.27536542, -71.09036101)</td>\n",
       "    </tr>\n",
       "  </tbody>\n",
       "</table>\n",
       "</div>"
      ],
      "text/plain": [
       "  INCIDENT_NUMBER  OFFENSE_CODE    OFFENSE_CODE_GROUP   OFFENSE_DESCRIPTION  \\\n",
       "0      I182070945           619               Larceny    LARCENY ALL OTHERS   \n",
       "1      I182070943          1402             Vandalism             VANDALISM   \n",
       "2      I182070941          3410                 Towed   TOWED MOTOR VEHICLE   \n",
       "3      I182070940          3114  Investigate Property  INVESTIGATE PROPERTY   \n",
       "4      I182070938          3114  Investigate Property  INVESTIGATE PROPERTY   \n",
       "\n",
       "  DISTRICT REPORTING_AREA SHOOTING    OCCURRED_ON_DATE  YEAR  MONTH  \\\n",
       "0      D14            808        N 2018-09-02 13:00:00  2018      9   \n",
       "1      C11            347        N 2018-08-21 00:00:00  2018      8   \n",
       "2       D4            151        N 2018-09-03 19:27:00  2018      9   \n",
       "3       D4            272        N 2018-09-03 21:16:00  2018      9   \n",
       "4       B3            421        N 2018-09-03 21:05:00  2018      9   \n",
       "\n",
       "  DAY_OF_WEEK  HOUR    UCR_PART       STREET        Lat       Long  \\\n",
       "0      Sunday    13    Part One   LINCOLN ST  42.357791 -71.139371   \n",
       "1     Tuesday     0    Part Two     HECLA ST  42.306821 -71.060300   \n",
       "2      Monday    19  Part Three  CAZENOVE ST  42.346589 -71.072429   \n",
       "3      Monday    21  Part Three   NEWCOMB ST  42.334182 -71.078664   \n",
       "4      Monday    21  Part Three     DELHI ST  42.275365 -71.090361   \n",
       "\n",
       "                      Location  \n",
       "0  (42.35779134, -71.13937053)  \n",
       "1  (42.30682138, -71.06030035)  \n",
       "2  (42.34658879, -71.07242943)  \n",
       "3  (42.33418175, -71.07866441)  \n",
       "4  (42.27536542, -71.09036101)  "
      ]
     },
     "execution_count": 34,
     "metadata": {},
     "output_type": "execute_result"
    }
   ],
   "source": [
    "crime_df.head()"
   ]
  },
  {
   "cell_type": "code",
   "execution_count": 35,
   "metadata": {},
   "outputs": [],
   "source": [
    "shootcrime = pd.pivot_table(crime_df.loc[crime_df['SHOOTING']=='Y',['YEAR', 'DISTRICT', 'SHOOTING']],\\\n",
    "    index='YEAR',columns='DISTRICT', aggfunc=np.count_nonzero)"
   ]
  },
  {
   "cell_type": "code",
   "execution_count": 36,
   "metadata": {},
   "outputs": [
    {
     "data": {
      "image/png": "[encoded data removed]",
      "text/plain": [
       "<Figure size 1080x1008 with 1 Axes>"
      ]
     },
     "metadata": {},
     "output_type": "display_data"
    }
   ],
   "source": [
    "sns.set()\n",
    "p4 = shootcrime.plot(title=r'2015-2018 crime has shooting bar plot', figsize=(15,14), kind='barh', stacked=True)\n",
    "\n",
    "p4fig = p4.get_figure()\n",
    "p4fig.savefig('./total_shooting_crime_barh.png')\n",
    "plt.show()"
   ]
  },
  {
   "cell_type": "code",
   "execution_count": 37,
   "metadata": {},
   "outputs": [],
   "source": [
    "districtSum = shootcrime.apply(np.sum)\n",
    "districtSum = pd.DataFrame(districtSum)"
   ]
  },
  {
   "cell_type": "code",
   "execution_count": 38,
   "metadata": {},
   "outputs": [],
   "source": [
    "districtSum = districtSum.rename(columns={0:r'shooting total'})"
   ]
  },
  {
   "cell_type": "code",
   "execution_count": 39,
   "metadata": {},
   "outputs": [],
   "source": [
    "districtSum = districtSum.sort_values(by=r'shooting total', ascending=False)"
   ]
  },
  {
   "cell_type": "code",
   "execution_count": 40,
   "metadata": {},
   "outputs": [
    {
     "data": {
      "text/html": [
       "<div>\n",
       "<style scoped>\n",
       "    .dataframe tbody tr th:only-of-type {\n",
       "        vertical-align: middle;\n",
       "    }\n",
       "\n",
       "    .dataframe tbody tr th {\n",
       "        vertical-align: top;\n",
       "    }\n",
       "\n",
       "    .dataframe thead th {\n",
       "        text-align: right;\n",
       "    }\n",
       "</style>\n",
       "<table border=\"1\" class=\"dataframe\">\n",
       "  <thead>\n",
       "    <tr style=\"text-align: right;\">\n",
       "      <th></th>\n",
       "      <th></th>\n",
       "      <th>shooting total</th>\n",
       "    </tr>\n",
       "    <tr>\n",
       "      <th></th>\n",
       "      <th>DISTRICT</th>\n",
       "      <th></th>\n",
       "    </tr>\n",
       "  </thead>\n",
       "  <tbody>\n",
       "    <tr>\n",
       "      <th rowspan=\"5\" valign=\"top\">SHOOTING</th>\n",
       "      <th>B2</th>\n",
       "      <td>344</td>\n",
       "    </tr>\n",
       "    <tr>\n",
       "      <th>B3</th>\n",
       "      <td>221</td>\n",
       "    </tr>\n",
       "    <tr>\n",
       "      <th>C11</th>\n",
       "      <td>187</td>\n",
       "    </tr>\n",
       "    <tr>\n",
       "      <th>E13</th>\n",
       "      <td>65</td>\n",
       "    </tr>\n",
       "    <tr>\n",
       "      <th>D4</th>\n",
       "      <td>56</td>\n",
       "    </tr>\n",
       "  </tbody>\n",
       "</table>\n",
       "</div>"
      ],
      "text/plain": [
       "                   shooting total\n",
       "         DISTRICT                \n",
       "SHOOTING B2                   344\n",
       "         B3                   221\n",
       "         C11                  187\n",
       "         E13                   65\n",
       "         D4                    56"
      ]
     },
     "execution_count": 40,
     "metadata": {},
     "output_type": "execute_result"
    }
   ],
   "source": [
    "top5 = districtSum.iloc[0:5,:]\n",
    "top5"
   ]
  },
  {
   "cell_type": "code",
   "execution_count": 41,
   "metadata": {},
   "outputs": [
    {
     "data": {
      "image/png": "[encoded data removed]",
      "text/plain": [
       "<Figure size 1080x1008 with 1 Axes>"
      ]
     },
     "metadata": {},
     "output_type": "display_data"
    }
   ],
   "source": [
    "sns.set()\n",
    "p5 = top5.plot(title=r'shooting crime top5 district', figsize=(15,14), kind='bar')\n",
    "x = np.arange(top5.index.shape[0])\n",
    "y = np.array(list(top5[r'shooting total']))\n",
    "for i,j in zip(x,y):\n",
    "    plt.text(i,j,'%d'%j, ha='center')\n",
    "p5fig = p5.get_figure()\n",
    "p5fig.savefig('./shooting_crime_top5_bar.png')\n",
    "plt.show()"
   ]
  },
  {
   "cell_type": "markdown",
   "metadata": {},
   "source": [
    "This chart clearly shows how these shooting crimes occur and which district is affected most. B2 and B3 are top of the list. "
   ]
  },
  {
   "cell_type": "markdown",
   "metadata": {},
   "source": [
    "## Visualization by Month"
   ]
  },
  {
   "cell_type": "code",
   "execution_count": 42,
   "metadata": {},
   "outputs": [],
   "source": [
    "byMonth = crime_df.groupby(by='MONTH')"
   ]
  },
  {
   "cell_type": "code",
   "execution_count": 43,
   "metadata": {},
   "outputs": [],
   "source": [
    "Monthcount=byMonth.count()"
   ]
  },
  {
   "cell_type": "code",
   "execution_count": 44,
   "metadata": {},
   "outputs": [
    {
     "data": {
      "text/html": [
       "<div>\n",
       "<style scoped>\n",
       "    .dataframe tbody tr th:only-of-type {\n",
       "        vertical-align: middle;\n",
       "    }\n",
       "\n",
       "    .dataframe tbody tr th {\n",
       "        vertical-align: top;\n",
       "    }\n",
       "\n",
       "    .dataframe thead th {\n",
       "        text-align: right;\n",
       "    }\n",
       "</style>\n",
       "<table border=\"1\" class=\"dataframe\">\n",
       "  <thead>\n",
       "    <tr style=\"text-align: right;\">\n",
       "      <th></th>\n",
       "      <th>INCIDENT_NUMBER</th>\n",
       "    </tr>\n",
       "    <tr>\n",
       "      <th>MONTH</th>\n",
       "      <th></th>\n",
       "    </tr>\n",
       "  </thead>\n",
       "  <tbody>\n",
       "    <tr>\n",
       "      <th>1</th>\n",
       "      <td>23610</td>\n",
       "    </tr>\n",
       "    <tr>\n",
       "      <th>2</th>\n",
       "      <td>21653</td>\n",
       "    </tr>\n",
       "    <tr>\n",
       "      <th>3</th>\n",
       "      <td>24146</td>\n",
       "    </tr>\n",
       "    <tr>\n",
       "      <th>4</th>\n",
       "      <td>24086</td>\n",
       "    </tr>\n",
       "    <tr>\n",
       "      <th>5</th>\n",
       "      <td>26199</td>\n",
       "    </tr>\n",
       "  </tbody>\n",
       "</table>\n",
       "</div>"
      ],
      "text/plain": [
       "       INCIDENT_NUMBER\n",
       "MONTH                 \n",
       "1                23610\n",
       "2                21653\n",
       "3                24146\n",
       "4                24086\n",
       "5                26199"
      ]
     },
     "execution_count": 44,
     "metadata": {},
     "output_type": "execute_result"
    }
   ],
   "source": [
    "MonthNumber = pd.DataFrame(Monthcount.iloc[:,0])\n",
    "MonthNumber.head()"
   ]
  },
  {
   "cell_type": "code",
   "execution_count": 45,
   "metadata": {},
   "outputs": [
    {
     "data": {
      "image/png": "[encoded data removed]",
      "text/plain": [
       "<Figure size 1080x1008 with 1 Axes>"
      ]
     },
     "metadata": {},
     "output_type": "display_data"
    }
   ],
   "source": [
    "MonthNumber = MonthNumber.rename(columns={'INCIDENT_NUMBER':'NUMBER'})\n",
    "sns.set()\n",
    "p6 = MonthNumber.plot(title=r'2015-2018 crime total by month bar plot', figsize=(15,14), kind='barh')\n",
    "x = np.arange(MonthNumber.index.shape[0])\n",
    "y = np.array(list(MonthNumber['NUMBER']))\n",
    "for i,j in zip(x,y):\n",
    "    plt.text(j,i,'%d'%j, ha='center')\n",
    "p6fig = p6.get_figure()\n",
    "p6fig.savefig('./total_by_month_bar.png')\n",
    "plt.show()"
   ]
  },
  {
   "cell_type": "markdown",
   "metadata": {},
   "source": [
    "In Boston, the warmest months are July and August, wherein the temperature is relatively high compared to Dec to Feb. It could be a reason for the criminal to move around quickly and commit crimes.  "
   ]
  },
  {
   "cell_type": "code",
   "execution_count": 46,
   "metadata": {},
   "outputs": [
    {
     "data": {
      "text/html": [
       "<div>\n",
       "<style scoped>\n",
       "    .dataframe tbody tr th:only-of-type {\n",
       "        vertical-align: middle;\n",
       "    }\n",
       "\n",
       "    .dataframe tbody tr th {\n",
       "        vertical-align: top;\n",
       "    }\n",
       "\n",
       "    .dataframe thead tr th {\n",
       "        text-align: left;\n",
       "    }\n",
       "\n",
       "    .dataframe thead tr:last-of-type th {\n",
       "        text-align: right;\n",
       "    }\n",
       "</style>\n",
       "<table border=\"1\" class=\"dataframe\">\n",
       "  <thead>\n",
       "    <tr>\n",
       "      <th></th>\n",
       "      <th colspan=\"12\" halign=\"left\">INCIDENT_NUMBER</th>\n",
       "    </tr>\n",
       "    <tr>\n",
       "      <th>MONTH</th>\n",
       "      <th>1</th>\n",
       "      <th>2</th>\n",
       "      <th>3</th>\n",
       "      <th>4</th>\n",
       "      <th>5</th>\n",
       "      <th>6</th>\n",
       "      <th>7</th>\n",
       "      <th>8</th>\n",
       "      <th>9</th>\n",
       "      <th>10</th>\n",
       "      <th>11</th>\n",
       "      <th>12</th>\n",
       "    </tr>\n",
       "    <tr>\n",
       "      <th>YEAR</th>\n",
       "      <th></th>\n",
       "      <th></th>\n",
       "      <th></th>\n",
       "      <th></th>\n",
       "      <th></th>\n",
       "      <th></th>\n",
       "      <th></th>\n",
       "      <th></th>\n",
       "      <th></th>\n",
       "      <th></th>\n",
       "      <th></th>\n",
       "      <th></th>\n",
       "    </tr>\n",
       "  </thead>\n",
       "  <tbody>\n",
       "    <tr>\n",
       "      <th>2015</th>\n",
       "      <td>NaN</td>\n",
       "      <td>NaN</td>\n",
       "      <td>NaN</td>\n",
       "      <td>NaN</td>\n",
       "      <td>NaN</td>\n",
       "      <td>4191.0</td>\n",
       "      <td>8324.0</td>\n",
       "      <td>8342.0</td>\n",
       "      <td>8414.0</td>\n",
       "      <td>8308.0</td>\n",
       "      <td>7818.0</td>\n",
       "      <td>7991.0</td>\n",
       "    </tr>\n",
       "    <tr>\n",
       "      <th>2016</th>\n",
       "      <td>7835.0</td>\n",
       "      <td>7308.0</td>\n",
       "      <td>8199.0</td>\n",
       "      <td>8101.0</td>\n",
       "      <td>8578.0</td>\n",
       "      <td>8558.0</td>\n",
       "      <td>8619.0</td>\n",
       "      <td>8938.0</td>\n",
       "      <td>8522.0</td>\n",
       "      <td>8583.0</td>\n",
       "      <td>7922.0</td>\n",
       "      <td>7951.0</td>\n",
       "    </tr>\n",
       "    <tr>\n",
       "      <th>2017</th>\n",
       "      <td>7993.0</td>\n",
       "      <td>7408.0</td>\n",
       "      <td>8179.0</td>\n",
       "      <td>8069.0</td>\n",
       "      <td>8715.0</td>\n",
       "      <td>8985.0</td>\n",
       "      <td>9075.0</td>\n",
       "      <td>9206.0</td>\n",
       "      <td>8940.0</td>\n",
       "      <td>8846.0</td>\n",
       "      <td>7935.0</td>\n",
       "      <td>7535.0</td>\n",
       "    </tr>\n",
       "    <tr>\n",
       "      <th>2018</th>\n",
       "      <td>7782.0</td>\n",
       "      <td>6937.0</td>\n",
       "      <td>7768.0</td>\n",
       "      <td>7916.0</td>\n",
       "      <td>8906.0</td>\n",
       "      <td>8834.0</td>\n",
       "      <td>8538.0</td>\n",
       "      <td>8337.0</td>\n",
       "      <td>667.0</td>\n",
       "      <td>NaN</td>\n",
       "      <td>NaN</td>\n",
       "      <td>NaN</td>\n",
       "    </tr>\n",
       "  </tbody>\n",
       "</table>\n",
       "</div>"
      ],
      "text/plain": [
       "      INCIDENT_NUMBER                                                          \\\n",
       "MONTH              1       2       3       4       5       6       7       8    \n",
       "YEAR                                                                            \n",
       "2015              NaN     NaN     NaN     NaN     NaN  4191.0  8324.0  8342.0   \n",
       "2016           7835.0  7308.0  8199.0  8101.0  8578.0  8558.0  8619.0  8938.0   \n",
       "2017           7993.0  7408.0  8179.0  8069.0  8715.0  8985.0  9075.0  9206.0   \n",
       "2018           7782.0  6937.0  7768.0  7916.0  8906.0  8834.0  8538.0  8337.0   \n",
       "\n",
       "                                       \n",
       "MONTH      9       10      11      12  \n",
       "YEAR                                   \n",
       "2015   8414.0  8308.0  7818.0  7991.0  \n",
       "2016   8522.0  8583.0  7922.0  7951.0  \n",
       "2017   8940.0  8846.0  7935.0  7535.0  \n",
       "2018    667.0     NaN     NaN     NaN  "
      ]
     },
     "execution_count": 46,
     "metadata": {},
     "output_type": "execute_result"
    }
   ],
   "source": [
    "Month = pd.pivot_table(crime_df.loc[:,['YEAR','MONTH','INCIDENT_NUMBER']],\\\n",
    "                    index='YEAR',columns='MONTH', aggfunc=np.count_nonzero)\n",
    "Month"
   ]
  },
  {
   "cell_type": "code",
   "execution_count": 47,
   "metadata": {},
   "outputs": [],
   "source": [
    "Month = Month.fillna(0)"
   ]
  },
  {
   "cell_type": "code",
   "execution_count": 48,
   "metadata": {},
   "outputs": [
    {
     "data": {
      "text/html": [
       "<div>\n",
       "<style scoped>\n",
       "    .dataframe tbody tr th:only-of-type {\n",
       "        vertical-align: middle;\n",
       "    }\n",
       "\n",
       "    .dataframe tbody tr th {\n",
       "        vertical-align: top;\n",
       "    }\n",
       "\n",
       "    .dataframe thead tr th {\n",
       "        text-align: left;\n",
       "    }\n",
       "\n",
       "    .dataframe thead tr:last-of-type th {\n",
       "        text-align: right;\n",
       "    }\n",
       "</style>\n",
       "<table border=\"1\" class=\"dataframe\">\n",
       "  <thead>\n",
       "    <tr>\n",
       "      <th></th>\n",
       "      <th colspan=\"12\" halign=\"left\">INCIDENT_NUMBER</th>\n",
       "    </tr>\n",
       "    <tr>\n",
       "      <th>MONTH</th>\n",
       "      <th>1</th>\n",
       "      <th>2</th>\n",
       "      <th>3</th>\n",
       "      <th>4</th>\n",
       "      <th>5</th>\n",
       "      <th>6</th>\n",
       "      <th>7</th>\n",
       "      <th>8</th>\n",
       "      <th>9</th>\n",
       "      <th>10</th>\n",
       "      <th>11</th>\n",
       "      <th>12</th>\n",
       "    </tr>\n",
       "    <tr>\n",
       "      <th>YEAR</th>\n",
       "      <th></th>\n",
       "      <th></th>\n",
       "      <th></th>\n",
       "      <th></th>\n",
       "      <th></th>\n",
       "      <th></th>\n",
       "      <th></th>\n",
       "      <th></th>\n",
       "      <th></th>\n",
       "      <th></th>\n",
       "      <th></th>\n",
       "      <th></th>\n",
       "    </tr>\n",
       "  </thead>\n",
       "  <tbody>\n",
       "    <tr>\n",
       "      <th>2015</th>\n",
       "      <td>0.0</td>\n",
       "      <td>0.0</td>\n",
       "      <td>0.0</td>\n",
       "      <td>0.0</td>\n",
       "      <td>0.0</td>\n",
       "      <td>4191.0</td>\n",
       "      <td>8324.0</td>\n",
       "      <td>8342.0</td>\n",
       "      <td>8414.0</td>\n",
       "      <td>8308.0</td>\n",
       "      <td>7818.0</td>\n",
       "      <td>7991.0</td>\n",
       "    </tr>\n",
       "    <tr>\n",
       "      <th>2016</th>\n",
       "      <td>7835.0</td>\n",
       "      <td>7308.0</td>\n",
       "      <td>8199.0</td>\n",
       "      <td>8101.0</td>\n",
       "      <td>8578.0</td>\n",
       "      <td>8558.0</td>\n",
       "      <td>8619.0</td>\n",
       "      <td>8938.0</td>\n",
       "      <td>8522.0</td>\n",
       "      <td>8583.0</td>\n",
       "      <td>7922.0</td>\n",
       "      <td>7951.0</td>\n",
       "    </tr>\n",
       "    <tr>\n",
       "      <th>2017</th>\n",
       "      <td>7993.0</td>\n",
       "      <td>7408.0</td>\n",
       "      <td>8179.0</td>\n",
       "      <td>8069.0</td>\n",
       "      <td>8715.0</td>\n",
       "      <td>8985.0</td>\n",
       "      <td>9075.0</td>\n",
       "      <td>9206.0</td>\n",
       "      <td>8940.0</td>\n",
       "      <td>8846.0</td>\n",
       "      <td>7935.0</td>\n",
       "      <td>7535.0</td>\n",
       "    </tr>\n",
       "    <tr>\n",
       "      <th>2018</th>\n",
       "      <td>7782.0</td>\n",
       "      <td>6937.0</td>\n",
       "      <td>7768.0</td>\n",
       "      <td>7916.0</td>\n",
       "      <td>8906.0</td>\n",
       "      <td>8834.0</td>\n",
       "      <td>8538.0</td>\n",
       "      <td>8337.0</td>\n",
       "      <td>667.0</td>\n",
       "      <td>0.0</td>\n",
       "      <td>0.0</td>\n",
       "      <td>0.0</td>\n",
       "    </tr>\n",
       "  </tbody>\n",
       "</table>\n",
       "</div>"
      ],
      "text/plain": [
       "      INCIDENT_NUMBER                                                          \\\n",
       "MONTH              1       2       3       4       5       6       7       8    \n",
       "YEAR                                                                            \n",
       "2015              0.0     0.0     0.0     0.0     0.0  4191.0  8324.0  8342.0   \n",
       "2016           7835.0  7308.0  8199.0  8101.0  8578.0  8558.0  8619.0  8938.0   \n",
       "2017           7993.0  7408.0  8179.0  8069.0  8715.0  8985.0  9075.0  9206.0   \n",
       "2018           7782.0  6937.0  7768.0  7916.0  8906.0  8834.0  8538.0  8337.0   \n",
       "\n",
       "                                       \n",
       "MONTH      9       10      11      12  \n",
       "YEAR                                   \n",
       "2015   8414.0  8308.0  7818.0  7991.0  \n",
       "2016   8522.0  8583.0  7922.0  7951.0  \n",
       "2017   8940.0  8846.0  7935.0  7535.0  \n",
       "2018    667.0     0.0     0.0     0.0  "
      ]
     },
     "execution_count": 48,
     "metadata": {},
     "output_type": "execute_result"
    }
   ],
   "source": [
    "Month"
   ]
  },
  {
   "cell_type": "code",
   "execution_count": 49,
   "metadata": {},
   "outputs": [
    {
     "data": {
      "image/png": "[encoded data removed]",
      "text/plain": [
       "<Figure size 1080x1008 with 1 Axes>"
      ]
     },
     "metadata": {},
     "output_type": "display_data"
    }
   ],
   "source": [
    "Monthlist = (list(Month.iloc[:,0])),(list(Month.iloc[:,1])),(list(Month.iloc[:,2])),\\\n",
    "    (list(Month.iloc[:,3])),(list(Month.iloc[:,4])),(list(Month.iloc[:,5])),(list(Month.iloc[:,6])),\\\n",
    "    (list(Month.iloc[:,7])),(list(Month.iloc[:,8])),(list(Month.iloc[:,9])),(list(Month.iloc[:,10])),\\\n",
    "    (list(Month.iloc[:,11]))\n",
    "def takesecond(elem):\n",
    "    x=[]\n",
    "    for i in elem:\n",
    "        x.append(i[1])\n",
    "    else:\n",
    "        return x \n",
    "label = takesecond(Month.columns) \n",
    "sns.set()\n",
    "p1 = plt.figure(figsize=(15,14)) \n",
    "plt.boxplot(Monthlist, labels=label, meanline=True)\n",
    "plt.title(r'each Month change box plot')\n",
    "plt.xlabel('Month')\n",
    "plt.ylabel(r'crime number')\n",
    "p1.savefig('./by_month_boxplot.png')\n",
    "plt.show()"
   ]
  },
  {
   "cell_type": "markdown",
   "metadata": {},
   "source": [
    "In 2015 January ~ May, and 2018 November ~ December, values are NaN, which has no record.2018 October is less, which is seen as an abnormal value, and missing recording may cause this July ~August to have more minor changes. With the month bar chart, they may be crime's highest occurred months and July in 2017 has a high value, which is seen as abnormal value other month have gentle change. "
   ]
  },
  {
   "cell_type": "markdown",
   "metadata": {},
   "source": [
    "## Principal Component Analysis\n",
    "\n",
    "The principal component analysis finds the most relative features using the PCA model analysis. PCA works very well if there are correlations exists.  \n",
    "\n"
   ]
  },
  {
   "cell_type": "code",
   "execution_count": 50,
   "metadata": {},
   "outputs": [
    {
     "name": "stdout",
     "output_type": "stream",
     "text": [
      "Collecting package metadata (current_repodata.json): done\n",
      "Solving environment: failed with initial frozen solve. Retrying with flexible solve.\n",
      "Collecting package metadata (repodata.json): done\n",
      "Solving environment: failed with initial frozen solve. Retrying with flexible solve.\n",
      "\n",
      "PackagesNotFoundError: The following packages are not available from current channels:\n",
      "\n",
      "  - scikit-learn=0.18.1\n",
      "\n",
      "Current channels:\n",
      "\n",
      "  - https://conda.anaconda.org/anaconda/osx-64\n",
      "  - https://conda.anaconda.org/anaconda/noarch\n",
      "  - https://repo.anaconda.com/pkgs/main/osx-64\n",
      "  - https://repo.anaconda.com/pkgs/main/noarch\n",
      "  - https://repo.anaconda.com/pkgs/r/osx-64\n",
      "  - https://repo.anaconda.com/pkgs/r/noarch\n",
      "\n",
      "To search for alternate channels that may provide the conda package you're\n",
      "looking for, navigate to\n",
      "\n",
      "    https://anaconda.org\n",
      "\n",
      "and use the search bar at the top of the page.\n",
      "\n",
      "\n",
      "\n",
      "Note: you may need to restart the kernel to use updated packages.\n"
     ]
    }
   ],
   "source": [
    "conda install -c anaconda scikit-learn=0.18.1"
   ]
  },
  {
   "cell_type": "code",
   "execution_count": 51,
   "metadata": {},
   "outputs": [
    {
     "name": "stdout",
     "output_type": "stream",
     "text": [
      "Requirement already satisfied: scikit-learn in /Users/nazmulfarooquee/opt/anaconda3/lib/python3.8/site-packages (1.0.2)\n",
      "Requirement already satisfied: numpy>=1.14.6 in /Users/nazmulfarooquee/opt/anaconda3/lib/python3.8/site-packages (from scikit-learn) (1.19.5)\n",
      "Requirement already satisfied: scipy>=1.1.0 in /Users/nazmulfarooquee/opt/anaconda3/lib/python3.8/site-packages (from scikit-learn) (1.5.4)\n",
      "Requirement already satisfied: joblib>=0.11 in /Users/nazmulfarooquee/opt/anaconda3/lib/python3.8/site-packages (from scikit-learn) (1.0.1)\n",
      "Requirement already satisfied: threadpoolctl>=2.0.0 in /Users/nazmulfarooquee/opt/anaconda3/lib/python3.8/site-packages (from scikit-learn) (2.2.0)\n",
      "Note: you may need to restart the kernel to use updated packages.\n"
     ]
    }
   ],
   "source": [
    "pip install scikit-learn"
   ]
  },
  {
   "cell_type": "code",
   "execution_count": 52,
   "metadata": {},
   "outputs": [],
   "source": [
    "from sklearn.preprocessing import LabelEncoder"
   ]
  },
  {
   "cell_type": "code",
   "execution_count": 53,
   "metadata": {},
   "outputs": [],
   "source": [
    "from sklearn.preprocessing import LabelEncoder\n",
    "tras = crime_df.iloc[:,:]\n",
    "tras.loc[:,'OFFENSE_CODE_GROUP']=LabelEncoder().fit_transform(tras.loc[:,'OFFENSE_CODE_GROUP'])\n",
    "tras.loc[:,'OFFENSE_DESCRIPTION']=LabelEncoder().fit_transform(tras.loc[:,'OFFENSE_DESCRIPTION'])\n",
    "tras.loc[:,'DISTRICT']=LabelEncoder().fit_transform(tras.loc[:,'DISTRICT'].astype('str'))\n",
    "tras.loc[:,'SHOOTING']=LabelEncoder().fit_transform(tras.loc[:,'SHOOTING'].astype('str'))\n",
    "tras.loc[:,'DAY_OF_WEEK']=LabelEncoder().fit_transform(tras.loc[:,'DAY_OF_WEEK'])\n",
    "tras.loc[:,'UCR_PART']=LabelEncoder().fit_transform(tras.loc[:,'UCR_PART'].astype('str'))\n",
    "tras.loc[:,'STREET']=LabelEncoder().fit_transform(tras.loc[:,'STREET'].astype('str'))"
   ]
  },
  {
   "cell_type": "code",
   "execution_count": 54,
   "metadata": {},
   "outputs": [
    {
     "data": {
      "text/html": [
       "<div>\n",
       "<style scoped>\n",
       "    .dataframe tbody tr th:only-of-type {\n",
       "        vertical-align: middle;\n",
       "    }\n",
       "\n",
       "    .dataframe tbody tr th {\n",
       "        vertical-align: top;\n",
       "    }\n",
       "\n",
       "    .dataframe thead th {\n",
       "        text-align: right;\n",
       "    }\n",
       "</style>\n",
       "<table border=\"1\" class=\"dataframe\">\n",
       "  <thead>\n",
       "    <tr style=\"text-align: right;\">\n",
       "      <th></th>\n",
       "      <th>INCIDENT_NUMBER</th>\n",
       "      <th>OFFENSE_CODE</th>\n",
       "      <th>OFFENSE_CODE_GROUP</th>\n",
       "      <th>OFFENSE_DESCRIPTION</th>\n",
       "      <th>DISTRICT</th>\n",
       "      <th>REPORTING_AREA</th>\n",
       "      <th>SHOOTING</th>\n",
       "      <th>OCCURRED_ON_DATE</th>\n",
       "      <th>YEAR</th>\n",
       "      <th>MONTH</th>\n",
       "      <th>DAY_OF_WEEK</th>\n",
       "      <th>HOUR</th>\n",
       "      <th>UCR_PART</th>\n",
       "      <th>STREET</th>\n",
       "      <th>Lat</th>\n",
       "      <th>Long</th>\n",
       "      <th>Location</th>\n",
       "    </tr>\n",
       "  </thead>\n",
       "  <tbody>\n",
       "    <tr>\n",
       "      <th>0</th>\n",
       "      <td>I182070945</td>\n",
       "      <td>619</td>\n",
       "      <td>34</td>\n",
       "      <td>129</td>\n",
       "      <td>7</td>\n",
       "      <td>808</td>\n",
       "      <td>0</td>\n",
       "      <td>2018-09-02 13:00:00</td>\n",
       "      <td>2018</td>\n",
       "      <td>9</td>\n",
       "      <td>3</td>\n",
       "      <td>13</td>\n",
       "      <td>1</td>\n",
       "      <td>2535</td>\n",
       "      <td>42.357791</td>\n",
       "      <td>-71.139371</td>\n",
       "      <td>(42.35779134, -71.13937053)</td>\n",
       "    </tr>\n",
       "    <tr>\n",
       "      <th>1</th>\n",
       "      <td>I182070943</td>\n",
       "      <td>1402</td>\n",
       "      <td>63</td>\n",
       "      <td>230</td>\n",
       "      <td>5</td>\n",
       "      <td>347</td>\n",
       "      <td>0</td>\n",
       "      <td>2018-08-21 00:00:00</td>\n",
       "      <td>2018</td>\n",
       "      <td>8</td>\n",
       "      <td>5</td>\n",
       "      <td>0</td>\n",
       "      <td>3</td>\n",
       "      <td>2073</td>\n",
       "      <td>42.306821</td>\n",
       "      <td>-71.060300</td>\n",
       "      <td>(42.30682138, -71.06030035)</td>\n",
       "    </tr>\n",
       "    <tr>\n",
       "      <th>2</th>\n",
       "      <td>I182070941</td>\n",
       "      <td>3410</td>\n",
       "      <td>62</td>\n",
       "      <td>222</td>\n",
       "      <td>8</td>\n",
       "      <td>151</td>\n",
       "      <td>0</td>\n",
       "      <td>2018-09-03 19:27:00</td>\n",
       "      <td>2018</td>\n",
       "      <td>9</td>\n",
       "      <td>1</td>\n",
       "      <td>19</td>\n",
       "      <td>2</td>\n",
       "      <td>784</td>\n",
       "      <td>42.346589</td>\n",
       "      <td>-71.072429</td>\n",
       "      <td>(42.34658879, -71.07242943)</td>\n",
       "    </tr>\n",
       "    <tr>\n",
       "      <th>3</th>\n",
       "      <td>I182070940</td>\n",
       "      <td>3114</td>\n",
       "      <td>32</td>\n",
       "      <td>123</td>\n",
       "      <td>8</td>\n",
       "      <td>272</td>\n",
       "      <td>0</td>\n",
       "      <td>2018-09-03 21:16:00</td>\n",
       "      <td>2018</td>\n",
       "      <td>9</td>\n",
       "      <td>1</td>\n",
       "      <td>21</td>\n",
       "      <td>2</td>\n",
       "      <td>3065</td>\n",
       "      <td>42.334182</td>\n",
       "      <td>-71.078664</td>\n",
       "      <td>(42.33418175, -71.07866441)</td>\n",
       "    </tr>\n",
       "    <tr>\n",
       "      <th>4</th>\n",
       "      <td>I182070938</td>\n",
       "      <td>3114</td>\n",
       "      <td>32</td>\n",
       "      <td>123</td>\n",
       "      <td>4</td>\n",
       "      <td>421</td>\n",
       "      <td>0</td>\n",
       "      <td>2018-09-03 21:05:00</td>\n",
       "      <td>2018</td>\n",
       "      <td>9</td>\n",
       "      <td>1</td>\n",
       "      <td>21</td>\n",
       "      <td>2</td>\n",
       "      <td>1240</td>\n",
       "      <td>42.275365</td>\n",
       "      <td>-71.090361</td>\n",
       "      <td>(42.27536542, -71.09036101)</td>\n",
       "    </tr>\n",
       "  </tbody>\n",
       "</table>\n",
       "</div>"
      ],
      "text/plain": [
       "  INCIDENT_NUMBER  OFFENSE_CODE  OFFENSE_CODE_GROUP  OFFENSE_DESCRIPTION  \\\n",
       "0      I182070945           619                  34                  129   \n",
       "1      I182070943          1402                  63                  230   \n",
       "2      I182070941          3410                  62                  222   \n",
       "3      I182070940          3114                  32                  123   \n",
       "4      I182070938          3114                  32                  123   \n",
       "\n",
       "   DISTRICT REPORTING_AREA  SHOOTING    OCCURRED_ON_DATE  YEAR  MONTH  \\\n",
       "0         7            808         0 2018-09-02 13:00:00  2018      9   \n",
       "1         5            347         0 2018-08-21 00:00:00  2018      8   \n",
       "2         8            151         0 2018-09-03 19:27:00  2018      9   \n",
       "3         8            272         0 2018-09-03 21:16:00  2018      9   \n",
       "4         4            421         0 2018-09-03 21:05:00  2018      9   \n",
       "\n",
       "   DAY_OF_WEEK  HOUR  UCR_PART  STREET        Lat       Long  \\\n",
       "0            3    13         1    2535  42.357791 -71.139371   \n",
       "1            5     0         3    2073  42.306821 -71.060300   \n",
       "2            1    19         2     784  42.346589 -71.072429   \n",
       "3            1    21         2    3065  42.334182 -71.078664   \n",
       "4            1    21         2    1240  42.275365 -71.090361   \n",
       "\n",
       "                      Location  \n",
       "0  (42.35779134, -71.13937053)  \n",
       "1  (42.30682138, -71.06030035)  \n",
       "2  (42.34658879, -71.07242943)  \n",
       "3  (42.33418175, -71.07866441)  \n",
       "4  (42.27536542, -71.09036101)  "
      ]
     },
     "execution_count": 54,
     "metadata": {},
     "output_type": "execute_result"
    }
   ],
   "source": [
    "tras.head()"
   ]
  },
  {
   "cell_type": "code",
   "execution_count": 55,
   "metadata": {},
   "outputs": [],
   "source": [
    "tras.loc[:,'REPORTING_AREA']=LabelEncoder().fit_transform(tras.loc[:,'REPORTING_AREA'])"
   ]
  },
  {
   "cell_type": "code",
   "execution_count": 56,
   "metadata": {},
   "outputs": [],
   "source": [
    "data=tras.loc[:,['OFFENSE_CODE', 'OFFENSE_CODE_GROUP','OFFENSE_DESCRIPTION', \\\n",
    "                 'DISTRICT', 'REPORTING_AREA', 'SHOOTING', 'YEAR','DAY_OF_WEEK', 'HOUR', 'UCR_PART', 'STREET']]\n",
    "target=tras.loc[:,'MONTH']"
   ]
  },
  {
   "cell_type": "code",
   "execution_count": 57,
   "metadata": {},
   "outputs": [],
   "source": [
    "from sklearn.decomposition import PCA\n",
    "pcamodel=PCA(n_components=11).fit(data)"
   ]
  },
  {
   "cell_type": "code",
   "execution_count": 58,
   "metadata": {},
   "outputs": [
    {
     "name": "stdout",
     "output_type": "stream",
     "text": [
      "[5.89050830e-01 3.91717966e-01 1.81623033e-02 9.99427569e-04\n",
      " 5.42778904e-05 1.10312680e-05 2.60933173e-06 1.14962701e-06\n",
      " 2.75942361e-07 1.28403953e-07 8.79717086e-10]\n"
     ]
    },
    {
     "data": {
      "text/plain": [
       "'\\ntop2\\nOFFENSE_CODE\\nOFFENSE_CODE_GROUP\\n'"
      ]
     },
     "execution_count": 58,
     "metadata": {},
     "output_type": "execute_result"
    }
   ],
   "source": [
    "print(pcamodel.explained_variance_ratio_)\n",
    "'''\n",
    "top2\n",
    "OFFENSE_CODE\n",
    "OFFENSE_CODE_GROUP\n",
    "'''"
   ]
  },
  {
   "cell_type": "markdown",
   "metadata": {},
   "source": [
    "## PCA\n",
    "\n",
    "PCA model   OFFENSE_CODE AND OFFENSE_CODE_GROUP \n",
    "\n",
    "\n",
    "\n",
    "Use pearson coeffient to analysis correlation to choose features to predict\n",
    "\n"
   ]
  },
  {
   "cell_type": "markdown",
   "metadata": {},
   "source": [
    "## Correlation Analysis-pearson Coefficient"
   ]
  },
  {
   "cell_type": "code",
   "execution_count": 59,
   "metadata": {},
   "outputs": [
    {
     "data": {
      "text/html": [
       "<div>\n",
       "<style scoped>\n",
       "    .dataframe tbody tr th:only-of-type {\n",
       "        vertical-align: middle;\n",
       "    }\n",
       "\n",
       "    .dataframe tbody tr th {\n",
       "        vertical-align: top;\n",
       "    }\n",
       "\n",
       "    .dataframe thead th {\n",
       "        text-align: right;\n",
       "    }\n",
       "</style>\n",
       "<table border=\"1\" class=\"dataframe\">\n",
       "  <thead>\n",
       "    <tr style=\"text-align: right;\">\n",
       "      <th></th>\n",
       "      <th>OFFENSE_CODE</th>\n",
       "      <th>OFFENSE_CODE_GROUP</th>\n",
       "      <th>OFFENSE_DESCRIPTION</th>\n",
       "      <th>DISTRICT</th>\n",
       "      <th>REPORTING_AREA</th>\n",
       "      <th>SHOOTING</th>\n",
       "      <th>YEAR</th>\n",
       "      <th>DAY_OF_WEEK</th>\n",
       "      <th>HOUR</th>\n",
       "      <th>UCR_PART</th>\n",
       "      <th>STREET</th>\n",
       "      <th>MONTH</th>\n",
       "    </tr>\n",
       "  </thead>\n",
       "  <tbody>\n",
       "    <tr>\n",
       "      <th>MONTH</th>\n",
       "      <td>-0.014322</td>\n",
       "      <td>-0.005345</td>\n",
       "      <td>-0.010154</td>\n",
       "      <td>-0.001314</td>\n",
       "      <td>0.000382</td>\n",
       "      <td>0.007902</td>\n",
       "      <td>-0.383351</td>\n",
       "      <td>0.003238</td>\n",
       "      <td>0.002051</td>\n",
       "      <td>-0.020926</td>\n",
       "      <td>-0.003080</td>\n",
       "      <td>1.000000</td>\n",
       "    </tr>\n",
       "    <tr>\n",
       "      <th>SHOOTING</th>\n",
       "      <td>-0.058532</td>\n",
       "      <td>-0.076525</td>\n",
       "      <td>-0.051013</td>\n",
       "      <td>-0.007176</td>\n",
       "      <td>0.006241</td>\n",
       "      <td>1.000000</td>\n",
       "      <td>-0.000905</td>\n",
       "      <td>-0.003211</td>\n",
       "      <td>0.004417</td>\n",
       "      <td>-0.045245</td>\n",
       "      <td>-0.000125</td>\n",
       "      <td>0.007902</td>\n",
       "    </tr>\n",
       "    <tr>\n",
       "      <th>DAY_OF_WEEK</th>\n",
       "      <td>-0.002259</td>\n",
       "      <td>-0.001014</td>\n",
       "      <td>0.004835</td>\n",
       "      <td>0.004033</td>\n",
       "      <td>-0.005724</td>\n",
       "      <td>-0.003211</td>\n",
       "      <td>-0.000701</td>\n",
       "      <td>1.000000</td>\n",
       "      <td>0.008241</td>\n",
       "      <td>0.005914</td>\n",
       "      <td>0.000186</td>\n",
       "      <td>0.003238</td>\n",
       "    </tr>\n",
       "    <tr>\n",
       "      <th>HOUR</th>\n",
       "      <td>-0.017036</td>\n",
       "      <td>-0.022053</td>\n",
       "      <td>-0.015927</td>\n",
       "      <td>0.013842</td>\n",
       "      <td>0.006527</td>\n",
       "      <td>0.004417</td>\n",
       "      <td>0.001945</td>\n",
       "      <td>0.008241</td>\n",
       "      <td>1.000000</td>\n",
       "      <td>-0.008396</td>\n",
       "      <td>-0.003960</td>\n",
       "      <td>0.002051</td>\n",
       "    </tr>\n",
       "    <tr>\n",
       "      <th>REPORTING_AREA</th>\n",
       "      <td>0.015614</td>\n",
       "      <td>0.011795</td>\n",
       "      <td>0.002503</td>\n",
       "      <td>0.190966</td>\n",
       "      <td>1.000000</td>\n",
       "      <td>0.006241</td>\n",
       "      <td>-0.007961</td>\n",
       "      <td>-0.005724</td>\n",
       "      <td>0.006527</td>\n",
       "      <td>-0.001240</td>\n",
       "      <td>-0.076875</td>\n",
       "      <td>0.000382</td>\n",
       "    </tr>\n",
       "    <tr>\n",
       "      <th>DISTRICT</th>\n",
       "      <td>0.014836</td>\n",
       "      <td>-0.001846</td>\n",
       "      <td>0.003606</td>\n",
       "      <td>1.000000</td>\n",
       "      <td>0.190966</td>\n",
       "      <td>-0.007176</td>\n",
       "      <td>0.010764</td>\n",
       "      <td>0.004033</td>\n",
       "      <td>0.013842</td>\n",
       "      <td>-0.016841</td>\n",
       "      <td>-0.008841</td>\n",
       "      <td>-0.001314</td>\n",
       "    </tr>\n",
       "    <tr>\n",
       "      <th>STREET</th>\n",
       "      <td>0.003712</td>\n",
       "      <td>-0.004765</td>\n",
       "      <td>-0.003330</td>\n",
       "      <td>-0.008841</td>\n",
       "      <td>-0.076875</td>\n",
       "      <td>-0.000125</td>\n",
       "      <td>-0.010880</td>\n",
       "      <td>0.000186</td>\n",
       "      <td>-0.003960</td>\n",
       "      <td>0.010910</td>\n",
       "      <td>1.000000</td>\n",
       "      <td>-0.003080</td>\n",
       "    </tr>\n",
       "    <tr>\n",
       "      <th>OFFENSE_CODE_GROUP</th>\n",
       "      <td>0.251454</td>\n",
       "      <td>1.000000</td>\n",
       "      <td>0.563994</td>\n",
       "      <td>-0.001846</td>\n",
       "      <td>0.011795</td>\n",
       "      <td>-0.076525</td>\n",
       "      <td>0.012781</td>\n",
       "      <td>-0.001014</td>\n",
       "      <td>-0.022053</td>\n",
       "      <td>0.192449</td>\n",
       "      <td>-0.004765</td>\n",
       "      <td>-0.005345</td>\n",
       "    </tr>\n",
       "    <tr>\n",
       "      <th>OFFENSE_DESCRIPTION</th>\n",
       "      <td>0.458466</td>\n",
       "      <td>0.563994</td>\n",
       "      <td>1.000000</td>\n",
       "      <td>0.003606</td>\n",
       "      <td>0.002503</td>\n",
       "      <td>-0.051013</td>\n",
       "      <td>0.017580</td>\n",
       "      <td>0.004835</td>\n",
       "      <td>-0.015927</td>\n",
       "      <td>0.077221</td>\n",
       "      <td>-0.003330</td>\n",
       "      <td>-0.010154</td>\n",
       "    </tr>\n",
       "    <tr>\n",
       "      <th>OFFENSE_CODE</th>\n",
       "      <td>1.000000</td>\n",
       "      <td>0.251454</td>\n",
       "      <td>0.458466</td>\n",
       "      <td>0.014836</td>\n",
       "      <td>0.015614</td>\n",
       "      <td>-0.058532</td>\n",
       "      <td>0.045103</td>\n",
       "      <td>-0.002259</td>\n",
       "      <td>-0.017036</td>\n",
       "      <td>0.226822</td>\n",
       "      <td>0.003712</td>\n",
       "      <td>-0.014322</td>\n",
       "    </tr>\n",
       "    <tr>\n",
       "      <th>UCR_PART</th>\n",
       "      <td>0.226822</td>\n",
       "      <td>0.192449</td>\n",
       "      <td>0.077221</td>\n",
       "      <td>-0.016841</td>\n",
       "      <td>-0.001240</td>\n",
       "      <td>-0.045245</td>\n",
       "      <td>0.003902</td>\n",
       "      <td>0.005914</td>\n",
       "      <td>-0.008396</td>\n",
       "      <td>1.000000</td>\n",
       "      <td>0.010910</td>\n",
       "      <td>-0.020926</td>\n",
       "    </tr>\n",
       "    <tr>\n",
       "      <th>YEAR</th>\n",
       "      <td>0.045103</td>\n",
       "      <td>0.012781</td>\n",
       "      <td>0.017580</td>\n",
       "      <td>0.010764</td>\n",
       "      <td>-0.007961</td>\n",
       "      <td>-0.000905</td>\n",
       "      <td>1.000000</td>\n",
       "      <td>-0.000701</td>\n",
       "      <td>0.001945</td>\n",
       "      <td>0.003902</td>\n",
       "      <td>-0.010880</td>\n",
       "      <td>-0.383351</td>\n",
       "    </tr>\n",
       "  </tbody>\n",
       "</table>\n",
       "</div>"
      ],
      "text/plain": [
       "                     OFFENSE_CODE  OFFENSE_CODE_GROUP  OFFENSE_DESCRIPTION  \\\n",
       "MONTH                   -0.014322           -0.005345            -0.010154   \n",
       "SHOOTING                -0.058532           -0.076525            -0.051013   \n",
       "DAY_OF_WEEK             -0.002259           -0.001014             0.004835   \n",
       "HOUR                    -0.017036           -0.022053            -0.015927   \n",
       "REPORTING_AREA           0.015614            0.011795             0.002503   \n",
       "DISTRICT                 0.014836           -0.001846             0.003606   \n",
       "STREET                   0.003712           -0.004765            -0.003330   \n",
       "OFFENSE_CODE_GROUP       0.251454            1.000000             0.563994   \n",
       "OFFENSE_DESCRIPTION      0.458466            0.563994             1.000000   \n",
       "OFFENSE_CODE             1.000000            0.251454             0.458466   \n",
       "UCR_PART                 0.226822            0.192449             0.077221   \n",
       "YEAR                     0.045103            0.012781             0.017580   \n",
       "\n",
       "                     DISTRICT  REPORTING_AREA  SHOOTING      YEAR  \\\n",
       "MONTH               -0.001314        0.000382  0.007902 -0.383351   \n",
       "SHOOTING            -0.007176        0.006241  1.000000 -0.000905   \n",
       "DAY_OF_WEEK          0.004033       -0.005724 -0.003211 -0.000701   \n",
       "HOUR                 0.013842        0.006527  0.004417  0.001945   \n",
       "REPORTING_AREA       0.190966        1.000000  0.006241 -0.007961   \n",
       "DISTRICT             1.000000        0.190966 -0.007176  0.010764   \n",
       "STREET              -0.008841       -0.076875 -0.000125 -0.010880   \n",
       "OFFENSE_CODE_GROUP  -0.001846        0.011795 -0.076525  0.012781   \n",
       "OFFENSE_DESCRIPTION  0.003606        0.002503 -0.051013  0.017580   \n",
       "OFFENSE_CODE         0.014836        0.015614 -0.058532  0.045103   \n",
       "UCR_PART            -0.016841       -0.001240 -0.045245  0.003902   \n",
       "YEAR                 0.010764       -0.007961 -0.000905  1.000000   \n",
       "\n",
       "                     DAY_OF_WEEK      HOUR  UCR_PART    STREET     MONTH  \n",
       "MONTH                   0.003238  0.002051 -0.020926 -0.003080  1.000000  \n",
       "SHOOTING               -0.003211  0.004417 -0.045245 -0.000125  0.007902  \n",
       "DAY_OF_WEEK             1.000000  0.008241  0.005914  0.000186  0.003238  \n",
       "HOUR                    0.008241  1.000000 -0.008396 -0.003960  0.002051  \n",
       "REPORTING_AREA         -0.005724  0.006527 -0.001240 -0.076875  0.000382  \n",
       "DISTRICT                0.004033  0.013842 -0.016841 -0.008841 -0.001314  \n",
       "STREET                  0.000186 -0.003960  0.010910  1.000000 -0.003080  \n",
       "OFFENSE_CODE_GROUP     -0.001014 -0.022053  0.192449 -0.004765 -0.005345  \n",
       "OFFENSE_DESCRIPTION     0.004835 -0.015927  0.077221 -0.003330 -0.010154  \n",
       "OFFENSE_CODE           -0.002259 -0.017036  0.226822  0.003712 -0.014322  \n",
       "UCR_PART                0.005914 -0.008396  1.000000  0.010910 -0.020926  \n",
       "YEAR                   -0.000701  0.001945  0.003902 -0.010880 -0.383351  "
      ]
     },
     "execution_count": 59,
     "metadata": {},
     "output_type": "execute_result"
    }
   ],
   "source": [
    "pdata=tras.loc[:,['OFFENSE_CODE', 'OFFENSE_CODE_GROUP','OFFENSE_DESCRIPTION', \\\n",
    "                 'DISTRICT', 'REPORTING_AREA', 'SHOOTING', 'YEAR','DAY_OF_WEEK', 'HOUR', 'UCR_PART', 'STREET','MONTH']]\n",
    "pearsonMatrix=pd.DataFrame(round(pdata.corr(method='pearson'),6))\n",
    "pearsonMatrix.sort_values(by='MONTH',ascending=False)"
   ]
  },
  {
   "cell_type": "markdown",
   "metadata": {},
   "source": [
    "## Pearson Coefficient Matrix\n",
    "\n",
    "With using pearson coefficient matrix,\n",
    "\n",
    "SHOOTING,DAT_OF_WEEK and HOUR are more relative to predict Month\n",
    "\n",
    "Using three features to predict"
   ]
  },
  {
   "cell_type": "markdown",
   "metadata": {},
   "source": [
    "## Predict Month-using GBC\n",
    "\n",
    "Using GradientBoostingClassifier"
   ]
  },
  {
   "cell_type": "code",
   "execution_count": 60,
   "metadata": {},
   "outputs": [],
   "source": [
    "sample=tras.sample(n=10000)"
   ]
  },
  {
   "cell_type": "code",
   "execution_count": 61,
   "metadata": {},
   "outputs": [],
   "source": [
    "features=sample.loc[:,['SHOOTING','DAY_OF_WEEK','HOUR']]\n",
    "target=sample.loc[:,'MONTH']"
   ]
  },
  {
   "cell_type": "code",
   "execution_count": 62,
   "metadata": {},
   "outputs": [],
   "source": [
    "from sklearn.model_selection import train_test_split\n",
    "dataTrain,dataTest, \\\n",
    "targetTrain,targetTest= \\\n",
    "train_test_split(features,target,train_size=0.8)"
   ]
  },
  {
   "cell_type": "code",
   "execution_count": 63,
   "metadata": {},
   "outputs": [],
   "source": [
    "from sklearn.ensemble import GradientBoostingClassifier as GBC"
   ]
  },
  {
   "cell_type": "code",
   "execution_count": 64,
   "metadata": {},
   "outputs": [],
   "source": [
    "crimeGBC=GBC(max_depth=12)"
   ]
  },
  {
   "cell_type": "code",
   "execution_count": 65,
   "metadata": {},
   "outputs": [
    {
     "data": {
      "text/plain": [
       "GradientBoostingClassifier(max_depth=12)"
      ]
     },
     "execution_count": 65,
     "metadata": {},
     "output_type": "execute_result"
    }
   ],
   "source": [
    "crimeGBC.fit(dataTrain,targetTrain)"
   ]
  },
  {
   "cell_type": "code",
   "execution_count": 66,
   "metadata": {},
   "outputs": [],
   "source": [
    "pred=crimeGBC.predict(dataTrain)"
   ]
  },
  {
   "cell_type": "code",
   "execution_count": 67,
   "metadata": {},
   "outputs": [
    {
     "name": "stdout",
     "output_type": "stream",
     "text": [
      "              precision    recall  f1-score   support\n",
      "\n",
      "           1       0.16      0.08      0.10       603\n",
      "           2       0.16      0.04      0.07       521\n",
      "           3       0.16      0.09      0.11       624\n",
      "           4       0.21      0.03      0.05       600\n",
      "           5       0.15      0.11      0.13       644\n",
      "           6       0.15      0.24      0.19       790\n",
      "           7       0.16      0.36      0.22       859\n",
      "           8       0.16      0.27      0.20       812\n",
      "           9       0.15      0.18      0.17       664\n",
      "          10       0.16      0.16      0.16       679\n",
      "          11       0.16      0.10      0.12       603\n",
      "          12       0.17      0.07      0.10       601\n",
      "\n",
      "    accuracy                           0.16      8000\n",
      "   macro avg       0.16      0.14      0.13      8000\n",
      "weighted avg       0.16      0.16      0.14      8000\n",
      "\n"
     ]
    }
   ],
   "source": [
    "from sklearn.metrics import classification_report\n",
    "print(classification_report(targetTrain,pred))"
   ]
  },
  {
   "cell_type": "code",
   "execution_count": 68,
   "metadata": {},
   "outputs": [],
   "source": [
    "predict=crimeGBC.predict(dataTest)"
   ]
  },
  {
   "cell_type": "code",
   "execution_count": 69,
   "metadata": {},
   "outputs": [
    {
     "name": "stdout",
     "output_type": "stream",
     "text": [
      "              precision    recall  f1-score   support\n",
      "\n",
      "           1       0.09      0.06      0.07       145\n",
      "           2       0.00      0.00      0.00       140\n",
      "           3       0.09      0.05      0.06       145\n",
      "           4       0.13      0.01      0.02       154\n",
      "           5       0.07      0.05      0.06       168\n",
      "           6       0.13      0.20      0.16       202\n",
      "           7       0.13      0.29      0.18       218\n",
      "           8       0.12      0.18      0.14       226\n",
      "           9       0.10      0.14      0.12       157\n",
      "          10       0.08      0.10      0.09       141\n",
      "          11       0.10      0.06      0.08       161\n",
      "          12       0.03      0.01      0.02       143\n",
      "\n",
      "    accuracy                           0.11      2000\n",
      "   macro avg       0.09      0.10      0.08      2000\n",
      "weighted avg       0.09      0.11      0.09      2000\n",
      "\n"
     ]
    }
   ],
   "source": [
    "print(classification_report(targetTest,predict))"
   ]
  },
  {
   "cell_type": "code",
   "execution_count": 70,
   "metadata": {},
   "outputs": [
    {
     "name": "stdout",
     "output_type": "stream",
     "text": [
      "0.108\n"
     ]
    }
   ],
   "source": [
    "from sklearn.metrics import accuracy_score\n",
    "print(accuracy_score(targetTest,predict))"
   ]
  },
  {
   "cell_type": "markdown",
   "metadata": {},
   "source": [
    "## Predict Month-using GBC and PCA"
   ]
  },
  {
   "cell_type": "code",
   "execution_count": 71,
   "metadata": {},
   "outputs": [],
   "source": [
    "pcadata=sample.loc[:,['OFFENSE_CODE', 'OFFENSE_CODE_GROUP','OFFENSE_DESCRIPTION', \\\n",
    "                 'DISTRICT', 'REPORTING_AREA', 'SHOOTING', 'YEAR','DAY_OF_WEEK', 'HOUR', 'UCR_PART', 'STREET']]\n",
    "target=sample.loc[:,'MONTH']"
   ]
  },
  {
   "cell_type": "code",
   "execution_count": 72,
   "metadata": {},
   "outputs": [],
   "source": [
    "Pcatras=PCA(n_components=2).fit_transform(pcadata)"
   ]
  },
  {
   "cell_type": "code",
   "execution_count": 73,
   "metadata": {},
   "outputs": [],
   "source": [
    "pcaTrain,pcaTest, \\\n",
    "ptargetTrain,ptargetTest = \\\n",
    "train_test_split(Pcatras,target,train_size=0.8)"
   ]
  },
  {
   "cell_type": "code",
   "execution_count": 74,
   "metadata": {},
   "outputs": [],
   "source": [
    "pcaGBC=GBC(max_depth=12).fit(pcaTrain,ptargetTrain)"
   ]
  },
  {
   "cell_type": "code",
   "execution_count": 75,
   "metadata": {},
   "outputs": [
    {
     "name": "stdout",
     "output_type": "stream",
     "text": [
      "              precision    recall  f1-score   support\n",
      "\n",
      "           1       0.99      1.00      0.99       601\n",
      "           2       0.99      0.99      0.99       544\n",
      "           3       0.99      0.99      0.99       609\n",
      "           4       1.00      1.00      1.00       608\n",
      "           5       0.99      0.99      0.99       646\n",
      "           6       0.99      0.99      0.99       786\n",
      "           7       0.99      0.99      0.99       861\n",
      "           8       0.99      0.99      0.99       815\n",
      "           9       1.00      0.99      1.00       666\n",
      "          10       0.99      0.99      0.99       670\n",
      "          11       0.99      0.98      0.99       617\n",
      "          12       0.99      1.00      1.00       577\n",
      "\n",
      "    accuracy                           0.99      8000\n",
      "   macro avg       0.99      0.99      0.99      8000\n",
      "weighted avg       0.99      0.99      0.99      8000\n",
      "\n"
     ]
    }
   ],
   "source": [
    "pcapre=pcaGBC.predict(pcaTrain)\n",
    "print(classification_report(ptargetTrain,pcapre))"
   ]
  },
  {
   "cell_type": "code",
   "execution_count": 76,
   "metadata": {},
   "outputs": [
    {
     "name": "stdout",
     "output_type": "stream",
     "text": [
      "              precision    recall  f1-score   support\n",
      "\n",
      "           1       0.12      0.12      0.12       147\n",
      "           2       0.05      0.04      0.04       117\n",
      "           3       0.09      0.09      0.09       160\n",
      "           4       0.12      0.13      0.12       146\n",
      "           5       0.10      0.07      0.08       166\n",
      "           6       0.08      0.08      0.08       206\n",
      "           7       0.10      0.11      0.10       216\n",
      "           8       0.12      0.11      0.11       223\n",
      "           9       0.06      0.06      0.06       155\n",
      "          10       0.08      0.11      0.09       150\n",
      "          11       0.03      0.03      0.03       147\n",
      "          12       0.08      0.07      0.07       167\n",
      "\n",
      "    accuracy                           0.09      2000\n",
      "   macro avg       0.08      0.09      0.08      2000\n",
      "weighted avg       0.09      0.09      0.09      2000\n",
      "\n",
      "0.087\n"
     ]
    }
   ],
   "source": [
    "pcapredict=pcaGBC.predict(pcaTest)\n",
    "print(classification_report(ptargetTest,pcapredict))\n",
    "print(accuracy_score(ptargetTest,pcapredict))"
   ]
  },
  {
   "cell_type": "markdown",
   "metadata": {},
   "source": [
    "## Predict Month-using SVC and three features"
   ]
  },
  {
   "cell_type": "code",
   "execution_count": 77,
   "metadata": {},
   "outputs": [],
   "source": [
    "from sklearn.svm import SVC \n",
    "crimeSVC=SVC()"
   ]
  },
  {
   "cell_type": "code",
   "execution_count": 78,
   "metadata": {},
   "outputs": [
    {
     "data": {
      "text/plain": [
       "SVC()"
      ]
     },
     "execution_count": 78,
     "metadata": {},
     "output_type": "execute_result"
    }
   ],
   "source": [
    "crimeSVC.fit(dataTrain, targetTrain)"
   ]
  },
  {
   "cell_type": "code",
   "execution_count": 79,
   "metadata": {},
   "outputs": [
    {
     "name": "stdout",
     "output_type": "stream",
     "text": [
      "              precision    recall  f1-score   support\n",
      "\n",
      "           1       0.00      0.00      0.00       603\n",
      "           2       0.00      0.00      0.00       521\n",
      "           3       0.00      0.00      0.00       624\n",
      "           4       0.00      0.00      0.00       600\n",
      "           5       0.00      0.00      0.00       644\n",
      "           6       0.00      0.00      0.00       790\n",
      "           7       0.11      0.90      0.19       859\n",
      "           8       0.11      0.12      0.12       812\n",
      "           9       0.00      0.00      0.00       664\n",
      "          10       0.00      0.00      0.00       679\n",
      "          11       0.00      0.00      0.00       603\n",
      "          12       0.00      0.00      0.00       601\n",
      "\n",
      "    accuracy                           0.11      8000\n",
      "   macro avg       0.02      0.08      0.03      8000\n",
      "weighted avg       0.02      0.11      0.03      8000\n",
      "\n"
     ]
    },
    {
     "name": "stderr",
     "output_type": "stream",
     "text": [
      "/Users/nazmulfarooquee/opt/anaconda3/lib/python3.8/site-packages/sklearn/metrics/_classification.py:1318: UndefinedMetricWarning: Precision and F-score are ill-defined and being set to 0.0 in labels with no predicted samples. Use `zero_division` parameter to control this behavior.\n",
      "  _warn_prf(average, modifier, msg_start, len(result))\n",
      "/Users/nazmulfarooquee/opt/anaconda3/lib/python3.8/site-packages/sklearn/metrics/_classification.py:1318: UndefinedMetricWarning: Precision and F-score are ill-defined and being set to 0.0 in labels with no predicted samples. Use `zero_division` parameter to control this behavior.\n",
      "  _warn_prf(average, modifier, msg_start, len(result))\n",
      "/Users/nazmulfarooquee/opt/anaconda3/lib/python3.8/site-packages/sklearn/metrics/_classification.py:1318: UndefinedMetricWarning: Precision and F-score are ill-defined and being set to 0.0 in labels with no predicted samples. Use `zero_division` parameter to control this behavior.\n",
      "  _warn_prf(average, modifier, msg_start, len(result))\n"
     ]
    }
   ],
   "source": [
    "SVCpre=crimeSVC.predict(dataTrain)\n",
    "print(classification_report(targetTrain,SVCpre))"
   ]
  },
  {
   "cell_type": "code",
   "execution_count": 80,
   "metadata": {},
   "outputs": [
    {
     "name": "stdout",
     "output_type": "stream",
     "text": [
      "              precision    recall  f1-score   support\n",
      "\n",
      "           1       0.00      0.00      0.00       145\n",
      "           2       0.00      0.00      0.00       140\n",
      "           3       0.00      0.00      0.00       145\n",
      "           4       0.00      0.00      0.00       154\n",
      "           5       0.00      0.00      0.00       168\n",
      "           6       0.00      0.00      0.00       202\n",
      "           7       0.10      0.83      0.18       218\n",
      "           8       0.11      0.12      0.11       226\n",
      "           9       0.00      0.00      0.00       157\n",
      "          10       0.00      0.00      0.00       141\n",
      "          11       0.00      0.00      0.00       161\n",
      "          12       0.00      0.00      0.00       143\n",
      "\n",
      "    accuracy                           0.10      2000\n",
      "   macro avg       0.02      0.08      0.02      2000\n",
      "weighted avg       0.02      0.10      0.03      2000\n",
      "\n",
      "0.104\n"
     ]
    },
    {
     "name": "stderr",
     "output_type": "stream",
     "text": [
      "/Users/nazmulfarooquee/opt/anaconda3/lib/python3.8/site-packages/sklearn/metrics/_classification.py:1318: UndefinedMetricWarning: Precision and F-score are ill-defined and being set to 0.0 in labels with no predicted samples. Use `zero_division` parameter to control this behavior.\n",
      "  _warn_prf(average, modifier, msg_start, len(result))\n",
      "/Users/nazmulfarooquee/opt/anaconda3/lib/python3.8/site-packages/sklearn/metrics/_classification.py:1318: UndefinedMetricWarning: Precision and F-score are ill-defined and being set to 0.0 in labels with no predicted samples. Use `zero_division` parameter to control this behavior.\n",
      "  _warn_prf(average, modifier, msg_start, len(result))\n",
      "/Users/nazmulfarooquee/opt/anaconda3/lib/python3.8/site-packages/sklearn/metrics/_classification.py:1318: UndefinedMetricWarning: Precision and F-score are ill-defined and being set to 0.0 in labels with no predicted samples. Use `zero_division` parameter to control this behavior.\n",
      "  _warn_prf(average, modifier, msg_start, len(result))\n"
     ]
    }
   ],
   "source": [
    "SVCpredict=crimeSVC.predict(dataTest)\n",
    "print(classification_report(targetTest,SVCpredict))\n",
    "print(accuracy_score(targetTest,SVCpredict))"
   ]
  },
  {
   "cell_type": "markdown",
   "metadata": {},
   "source": [
    "Predict Month using SVC and PCA "
   ]
  },
  {
   "cell_type": "code",
   "execution_count": 81,
   "metadata": {},
   "outputs": [],
   "source": [
    "pSVC=SVC().fit(pcaTrain,ptargetTrain)"
   ]
  },
  {
   "cell_type": "code",
   "execution_count": 82,
   "metadata": {},
   "outputs": [
    {
     "name": "stdout",
     "output_type": "stream",
     "text": [
      "              precision    recall  f1-score   support\n",
      "\n",
      "           1       0.00      0.00      0.00       601\n",
      "           2       0.00      0.00      0.00       544\n",
      "           3       0.00      0.00      0.00       609\n",
      "           4       0.00      0.00      0.00       608\n",
      "           5       0.00      0.00      0.00       646\n",
      "           6       0.17      0.01      0.02       786\n",
      "           7       0.11      0.79      0.20       861\n",
      "           8       0.11      0.26      0.16       815\n",
      "           9       0.00      0.00      0.00       666\n",
      "          10       0.00      0.00      0.00       670\n",
      "          11       0.00      0.00      0.00       617\n",
      "          12       0.00      0.00      0.00       577\n",
      "\n",
      "    accuracy                           0.11      8000\n",
      "   macro avg       0.03      0.09      0.03      8000\n",
      "weighted avg       0.04      0.11      0.04      8000\n",
      "\n"
     ]
    },
    {
     "name": "stderr",
     "output_type": "stream",
     "text": [
      "/Users/nazmulfarooquee/opt/anaconda3/lib/python3.8/site-packages/sklearn/metrics/_classification.py:1318: UndefinedMetricWarning: Precision and F-score are ill-defined and being set to 0.0 in labels with no predicted samples. Use `zero_division` parameter to control this behavior.\n",
      "  _warn_prf(average, modifier, msg_start, len(result))\n",
      "/Users/nazmulfarooquee/opt/anaconda3/lib/python3.8/site-packages/sklearn/metrics/_classification.py:1318: UndefinedMetricWarning: Precision and F-score are ill-defined and being set to 0.0 in labels with no predicted samples. Use `zero_division` parameter to control this behavior.\n",
      "  _warn_prf(average, modifier, msg_start, len(result))\n",
      "/Users/nazmulfarooquee/opt/anaconda3/lib/python3.8/site-packages/sklearn/metrics/_classification.py:1318: UndefinedMetricWarning: Precision and F-score are ill-defined and being set to 0.0 in labels with no predicted samples. Use `zero_division` parameter to control this behavior.\n",
      "  _warn_prf(average, modifier, msg_start, len(result))\n"
     ]
    }
   ],
   "source": [
    "pcaSVCpre=pSVC.predict(pcaTrain)\n",
    "print(classification_report(ptargetTrain,pcaSVCpre))"
   ]
  },
  {
   "cell_type": "code",
   "execution_count": 83,
   "metadata": {},
   "outputs": [
    {
     "name": "stdout",
     "output_type": "stream",
     "text": [
      "              precision    recall  f1-score   support\n",
      "\n",
      "           1       0.00      0.00      0.00       147\n",
      "           2       0.00      0.00      0.00       117\n",
      "           3       0.00      0.00      0.00       160\n",
      "           4       0.00      0.00      0.00       146\n",
      "           5       0.00      0.00      0.00       166\n",
      "           6       0.11      0.00      0.01       206\n",
      "           7       0.10      0.75      0.18       216\n",
      "           8       0.09      0.18      0.12       223\n",
      "           9       0.00      0.00      0.00       155\n",
      "          10       0.00      0.00      0.00       150\n",
      "          11       0.00      0.00      0.00       147\n",
      "          12       0.00      0.00      0.00       167\n",
      "\n",
      "    accuracy                           0.10      2000\n",
      "   macro avg       0.03      0.08      0.03      2000\n",
      "weighted avg       0.03      0.10      0.03      2000\n",
      "\n",
      "0.1015\n"
     ]
    },
    {
     "name": "stderr",
     "output_type": "stream",
     "text": [
      "/Users/nazmulfarooquee/opt/anaconda3/lib/python3.8/site-packages/sklearn/metrics/_classification.py:1318: UndefinedMetricWarning: Precision and F-score are ill-defined and being set to 0.0 in labels with no predicted samples. Use `zero_division` parameter to control this behavior.\n",
      "  _warn_prf(average, modifier, msg_start, len(result))\n",
      "/Users/nazmulfarooquee/opt/anaconda3/lib/python3.8/site-packages/sklearn/metrics/_classification.py:1318: UndefinedMetricWarning: Precision and F-score are ill-defined and being set to 0.0 in labels with no predicted samples. Use `zero_division` parameter to control this behavior.\n",
      "  _warn_prf(average, modifier, msg_start, len(result))\n",
      "/Users/nazmulfarooquee/opt/anaconda3/lib/python3.8/site-packages/sklearn/metrics/_classification.py:1318: UndefinedMetricWarning: Precision and F-score are ill-defined and being set to 0.0 in labels with no predicted samples. Use `zero_division` parameter to control this behavior.\n",
      "  _warn_prf(average, modifier, msg_start, len(result))\n"
     ]
    }
   ],
   "source": [
    "pcaSVCpredict=pSVC.predict(pcaTest)\n",
    "print(classification_report(ptargetTest,pcaSVCpredict))\n",
    "print(accuracy_score(ptargetTest,pcaSVCpredict))"
   ]
  },
  {
   "cell_type": "markdown",
   "metadata": {},
   "source": [
    "Predict Month - Using RandomForest Classifier and PCA "
   ]
  },
  {
   "cell_type": "code",
   "execution_count": 84,
   "metadata": {},
   "outputs": [],
   "source": [
    "from sklearn.ensemble import RandomForestClassifier as RFC \n",
    "crimeRFC = RFC(max_depth=12)"
   ]
  },
  {
   "cell_type": "code",
   "execution_count": 85,
   "metadata": {},
   "outputs": [
    {
     "data": {
      "text/plain": [
       "RandomForestClassifier(max_depth=12)"
      ]
     },
     "execution_count": 85,
     "metadata": {},
     "output_type": "execute_result"
    }
   ],
   "source": [
    "crimeRFC"
   ]
  },
  {
   "cell_type": "code",
   "execution_count": 86,
   "metadata": {},
   "outputs": [
    {
     "data": {
      "text/plain": [
       "RandomForestClassifier(max_depth=12)"
      ]
     },
     "execution_count": 86,
     "metadata": {},
     "output_type": "execute_result"
    }
   ],
   "source": [
    "crimeRFC.fit(pcaTrain,ptargetTrain)"
   ]
  },
  {
   "cell_type": "code",
   "execution_count": 87,
   "metadata": {},
   "outputs": [
    {
     "name": "stdout",
     "output_type": "stream",
     "text": [
      "              precision    recall  f1-score   support\n",
      "\n",
      "           1       0.87      0.49      0.63       601\n",
      "           2       0.93      0.37      0.52       544\n",
      "           3       0.84      0.46      0.59       609\n",
      "           4       0.88      0.45      0.59       608\n",
      "           5       0.84      0.52      0.64       646\n",
      "           6       0.57      0.78      0.66       786\n",
      "           7       0.33      0.89      0.48       861\n",
      "           8       0.51      0.81      0.63       815\n",
      "           9       0.82      0.59      0.68       666\n",
      "          10       0.77      0.60      0.68       670\n",
      "          11       0.75      0.49      0.59       617\n",
      "          12       0.84      0.43      0.57       577\n",
      "\n",
      "    accuracy                           0.60      8000\n",
      "   macro avg       0.75      0.57      0.61      8000\n",
      "weighted avg       0.72      0.60      0.61      8000\n",
      "\n"
     ]
    }
   ],
   "source": [
    "RFCpre=crimeRFC.predict(pcaTrain)\n",
    "print(classification_report(ptargetTrain,RFCpre))"
   ]
  },
  {
   "cell_type": "code",
   "execution_count": 88,
   "metadata": {},
   "outputs": [
    {
     "name": "stdout",
     "output_type": "stream",
     "text": [
      "              precision    recall  f1-score   support\n",
      "\n",
      "           1       0.11      0.06      0.08       147\n",
      "           2       0.06      0.02      0.03       117\n",
      "           3       0.11      0.05      0.07       160\n",
      "           4       0.12      0.05      0.07       146\n",
      "           5       0.11      0.04      0.06       166\n",
      "           6       0.12      0.16      0.13       206\n",
      "           7       0.09      0.28      0.14       216\n",
      "           8       0.11      0.18      0.13       223\n",
      "           9       0.06      0.03      0.04       155\n",
      "          10       0.07      0.06      0.06       150\n",
      "          11       0.10      0.06      0.08       147\n",
      "          12       0.08      0.03      0.04       167\n",
      "\n",
      "    accuracy                           0.10      2000\n",
      "   macro avg       0.09      0.09      0.08      2000\n",
      "weighted avg       0.10      0.10      0.08      2000\n",
      "\n",
      "0.097\n"
     ]
    }
   ],
   "source": [
    "RFCpredict=crimeRFC.predict(pcaTest)\n",
    "print(classification_report(ptargetTest,RFCpredict))\n",
    "print(accuracy_score(ptargetTest,RFCpredict))"
   ]
  },
  {
   "cell_type": "markdown",
   "metadata": {},
   "source": [
    "With using PCA and three features, USE PCA data seems to be more effective than choose three features, \n",
    "and use SVC model get highest accuracy score. "
   ]
  },
  {
   "cell_type": "markdown",
   "metadata": {},
   "source": [
    "## Predict offense_code_group\n",
    "\n",
    "choose features with pearson matrix "
   ]
  },
  {
   "cell_type": "code",
   "execution_count": 89,
   "metadata": {},
   "outputs": [
    {
     "data": {
      "text/html": [
       "<div>\n",
       "<style scoped>\n",
       "    .dataframe tbody tr th:only-of-type {\n",
       "        vertical-align: middle;\n",
       "    }\n",
       "\n",
       "    .dataframe tbody tr th {\n",
       "        vertical-align: top;\n",
       "    }\n",
       "\n",
       "    .dataframe thead th {\n",
       "        text-align: right;\n",
       "    }\n",
       "</style>\n",
       "<table border=\"1\" class=\"dataframe\">\n",
       "  <thead>\n",
       "    <tr style=\"text-align: right;\">\n",
       "      <th></th>\n",
       "      <th>OFFENSE_CODE</th>\n",
       "      <th>OFFENSE_CODE_GROUP</th>\n",
       "      <th>OFFENSE_DESCRIPTION</th>\n",
       "      <th>DISTRICT</th>\n",
       "      <th>REPORTING_AREA</th>\n",
       "      <th>SHOOTING</th>\n",
       "      <th>YEAR</th>\n",
       "      <th>DAY_OF_WEEK</th>\n",
       "      <th>HOUR</th>\n",
       "      <th>UCR_PART</th>\n",
       "      <th>STREET</th>\n",
       "      <th>MONTH</th>\n",
       "    </tr>\n",
       "  </thead>\n",
       "  <tbody>\n",
       "    <tr>\n",
       "      <th>OFFENSE_CODE_GROUP</th>\n",
       "      <td>0.251454</td>\n",
       "      <td>1.000000</td>\n",
       "      <td>0.563994</td>\n",
       "      <td>-0.001846</td>\n",
       "      <td>0.011795</td>\n",
       "      <td>-0.076525</td>\n",
       "      <td>0.012781</td>\n",
       "      <td>-0.001014</td>\n",
       "      <td>-0.022053</td>\n",
       "      <td>0.192449</td>\n",
       "      <td>-0.004765</td>\n",
       "      <td>-0.005345</td>\n",
       "    </tr>\n",
       "    <tr>\n",
       "      <th>OFFENSE_DESCRIPTION</th>\n",
       "      <td>0.458466</td>\n",
       "      <td>0.563994</td>\n",
       "      <td>1.000000</td>\n",
       "      <td>0.003606</td>\n",
       "      <td>0.002503</td>\n",
       "      <td>-0.051013</td>\n",
       "      <td>0.017580</td>\n",
       "      <td>0.004835</td>\n",
       "      <td>-0.015927</td>\n",
       "      <td>0.077221</td>\n",
       "      <td>-0.003330</td>\n",
       "      <td>-0.010154</td>\n",
       "    </tr>\n",
       "    <tr>\n",
       "      <th>OFFENSE_CODE</th>\n",
       "      <td>1.000000</td>\n",
       "      <td>0.251454</td>\n",
       "      <td>0.458466</td>\n",
       "      <td>0.014836</td>\n",
       "      <td>0.015614</td>\n",
       "      <td>-0.058532</td>\n",
       "      <td>0.045103</td>\n",
       "      <td>-0.002259</td>\n",
       "      <td>-0.017036</td>\n",
       "      <td>0.226822</td>\n",
       "      <td>0.003712</td>\n",
       "      <td>-0.014322</td>\n",
       "    </tr>\n",
       "    <tr>\n",
       "      <th>UCR_PART</th>\n",
       "      <td>0.226822</td>\n",
       "      <td>0.192449</td>\n",
       "      <td>0.077221</td>\n",
       "      <td>-0.016841</td>\n",
       "      <td>-0.001240</td>\n",
       "      <td>-0.045245</td>\n",
       "      <td>0.003902</td>\n",
       "      <td>0.005914</td>\n",
       "      <td>-0.008396</td>\n",
       "      <td>1.000000</td>\n",
       "      <td>0.010910</td>\n",
       "      <td>-0.020926</td>\n",
       "    </tr>\n",
       "    <tr>\n",
       "      <th>YEAR</th>\n",
       "      <td>0.045103</td>\n",
       "      <td>0.012781</td>\n",
       "      <td>0.017580</td>\n",
       "      <td>0.010764</td>\n",
       "      <td>-0.007961</td>\n",
       "      <td>-0.000905</td>\n",
       "      <td>1.000000</td>\n",
       "      <td>-0.000701</td>\n",
       "      <td>0.001945</td>\n",
       "      <td>0.003902</td>\n",
       "      <td>-0.010880</td>\n",
       "      <td>-0.383351</td>\n",
       "    </tr>\n",
       "    <tr>\n",
       "      <th>REPORTING_AREA</th>\n",
       "      <td>0.015614</td>\n",
       "      <td>0.011795</td>\n",
       "      <td>0.002503</td>\n",
       "      <td>0.190966</td>\n",
       "      <td>1.000000</td>\n",
       "      <td>0.006241</td>\n",
       "      <td>-0.007961</td>\n",
       "      <td>-0.005724</td>\n",
       "      <td>0.006527</td>\n",
       "      <td>-0.001240</td>\n",
       "      <td>-0.076875</td>\n",
       "      <td>0.000382</td>\n",
       "    </tr>\n",
       "    <tr>\n",
       "      <th>DAY_OF_WEEK</th>\n",
       "      <td>-0.002259</td>\n",
       "      <td>-0.001014</td>\n",
       "      <td>0.004835</td>\n",
       "      <td>0.004033</td>\n",
       "      <td>-0.005724</td>\n",
       "      <td>-0.003211</td>\n",
       "      <td>-0.000701</td>\n",
       "      <td>1.000000</td>\n",
       "      <td>0.008241</td>\n",
       "      <td>0.005914</td>\n",
       "      <td>0.000186</td>\n",
       "      <td>0.003238</td>\n",
       "    </tr>\n",
       "    <tr>\n",
       "      <th>DISTRICT</th>\n",
       "      <td>0.014836</td>\n",
       "      <td>-0.001846</td>\n",
       "      <td>0.003606</td>\n",
       "      <td>1.000000</td>\n",
       "      <td>0.190966</td>\n",
       "      <td>-0.007176</td>\n",
       "      <td>0.010764</td>\n",
       "      <td>0.004033</td>\n",
       "      <td>0.013842</td>\n",
       "      <td>-0.016841</td>\n",
       "      <td>-0.008841</td>\n",
       "      <td>-0.001314</td>\n",
       "    </tr>\n",
       "    <tr>\n",
       "      <th>STREET</th>\n",
       "      <td>0.003712</td>\n",
       "      <td>-0.004765</td>\n",
       "      <td>-0.003330</td>\n",
       "      <td>-0.008841</td>\n",
       "      <td>-0.076875</td>\n",
       "      <td>-0.000125</td>\n",
       "      <td>-0.010880</td>\n",
       "      <td>0.000186</td>\n",
       "      <td>-0.003960</td>\n",
       "      <td>0.010910</td>\n",
       "      <td>1.000000</td>\n",
       "      <td>-0.003080</td>\n",
       "    </tr>\n",
       "    <tr>\n",
       "      <th>MONTH</th>\n",
       "      <td>-0.014322</td>\n",
       "      <td>-0.005345</td>\n",
       "      <td>-0.010154</td>\n",
       "      <td>-0.001314</td>\n",
       "      <td>0.000382</td>\n",
       "      <td>0.007902</td>\n",
       "      <td>-0.383351</td>\n",
       "      <td>0.003238</td>\n",
       "      <td>0.002051</td>\n",
       "      <td>-0.020926</td>\n",
       "      <td>-0.003080</td>\n",
       "      <td>1.000000</td>\n",
       "    </tr>\n",
       "    <tr>\n",
       "      <th>HOUR</th>\n",
       "      <td>-0.017036</td>\n",
       "      <td>-0.022053</td>\n",
       "      <td>-0.015927</td>\n",
       "      <td>0.013842</td>\n",
       "      <td>0.006527</td>\n",
       "      <td>0.004417</td>\n",
       "      <td>0.001945</td>\n",
       "      <td>0.008241</td>\n",
       "      <td>1.000000</td>\n",
       "      <td>-0.008396</td>\n",
       "      <td>-0.003960</td>\n",
       "      <td>0.002051</td>\n",
       "    </tr>\n",
       "    <tr>\n",
       "      <th>SHOOTING</th>\n",
       "      <td>-0.058532</td>\n",
       "      <td>-0.076525</td>\n",
       "      <td>-0.051013</td>\n",
       "      <td>-0.007176</td>\n",
       "      <td>0.006241</td>\n",
       "      <td>1.000000</td>\n",
       "      <td>-0.000905</td>\n",
       "      <td>-0.003211</td>\n",
       "      <td>0.004417</td>\n",
       "      <td>-0.045245</td>\n",
       "      <td>-0.000125</td>\n",
       "      <td>0.007902</td>\n",
       "    </tr>\n",
       "  </tbody>\n",
       "</table>\n",
       "</div>"
      ],
      "text/plain": [
       "                     OFFENSE_CODE  OFFENSE_CODE_GROUP  OFFENSE_DESCRIPTION  \\\n",
       "OFFENSE_CODE_GROUP       0.251454            1.000000             0.563994   \n",
       "OFFENSE_DESCRIPTION      0.458466            0.563994             1.000000   \n",
       "OFFENSE_CODE             1.000000            0.251454             0.458466   \n",
       "UCR_PART                 0.226822            0.192449             0.077221   \n",
       "YEAR                     0.045103            0.012781             0.017580   \n",
       "REPORTING_AREA           0.015614            0.011795             0.002503   \n",
       "DAY_OF_WEEK             -0.002259           -0.001014             0.004835   \n",
       "DISTRICT                 0.014836           -0.001846             0.003606   \n",
       "STREET                   0.003712           -0.004765            -0.003330   \n",
       "MONTH                   -0.014322           -0.005345            -0.010154   \n",
       "HOUR                    -0.017036           -0.022053            -0.015927   \n",
       "SHOOTING                -0.058532           -0.076525            -0.051013   \n",
       "\n",
       "                     DISTRICT  REPORTING_AREA  SHOOTING      YEAR  \\\n",
       "OFFENSE_CODE_GROUP  -0.001846        0.011795 -0.076525  0.012781   \n",
       "OFFENSE_DESCRIPTION  0.003606        0.002503 -0.051013  0.017580   \n",
       "OFFENSE_CODE         0.014836        0.015614 -0.058532  0.045103   \n",
       "UCR_PART            -0.016841       -0.001240 -0.045245  0.003902   \n",
       "YEAR                 0.010764       -0.007961 -0.000905  1.000000   \n",
       "REPORTING_AREA       0.190966        1.000000  0.006241 -0.007961   \n",
       "DAY_OF_WEEK          0.004033       -0.005724 -0.003211 -0.000701   \n",
       "DISTRICT             1.000000        0.190966 -0.007176  0.010764   \n",
       "STREET              -0.008841       -0.076875 -0.000125 -0.010880   \n",
       "MONTH               -0.001314        0.000382  0.007902 -0.383351   \n",
       "HOUR                 0.013842        0.006527  0.004417  0.001945   \n",
       "SHOOTING            -0.007176        0.006241  1.000000 -0.000905   \n",
       "\n",
       "                     DAY_OF_WEEK      HOUR  UCR_PART    STREET     MONTH  \n",
       "OFFENSE_CODE_GROUP     -0.001014 -0.022053  0.192449 -0.004765 -0.005345  \n",
       "OFFENSE_DESCRIPTION     0.004835 -0.015927  0.077221 -0.003330 -0.010154  \n",
       "OFFENSE_CODE           -0.002259 -0.017036  0.226822  0.003712 -0.014322  \n",
       "UCR_PART                0.005914 -0.008396  1.000000  0.010910 -0.020926  \n",
       "YEAR                   -0.000701  0.001945  0.003902 -0.010880 -0.383351  \n",
       "REPORTING_AREA         -0.005724  0.006527 -0.001240 -0.076875  0.000382  \n",
       "DAY_OF_WEEK             1.000000  0.008241  0.005914  0.000186  0.003238  \n",
       "DISTRICT                0.004033  0.013842 -0.016841 -0.008841 -0.001314  \n",
       "STREET                  0.000186 -0.003960  0.010910  1.000000 -0.003080  \n",
       "MONTH                   0.003238  0.002051 -0.020926 -0.003080  1.000000  \n",
       "HOUR                    0.008241  1.000000 -0.008396 -0.003960  0.002051  \n",
       "SHOOTING               -0.003211  0.004417 -0.045245 -0.000125  0.007902  "
      ]
     },
     "execution_count": 89,
     "metadata": {},
     "output_type": "execute_result"
    }
   ],
   "source": [
    "pearsonMatrix.sort_values(by='OFFENSE_CODE_GROUP', ascending=False)"
   ]
  },
  {
   "cell_type": "code",
   "execution_count": 90,
   "metadata": {},
   "outputs": [],
   "source": [
    "offenseSample=tras.sample(n=100000)\n",
    "odata=offenseSample.loc[:,['UCR_PART','YEAR','REPORTING_AREA']]\n",
    "otarget=offenseSample.loc[:,'OFFENSE_CODE_GROUP'] "
   ]
  },
  {
   "cell_type": "code",
   "execution_count": 91,
   "metadata": {},
   "outputs": [
    {
     "data": {
      "text/html": [
       "<div>\n",
       "<style scoped>\n",
       "    .dataframe tbody tr th:only-of-type {\n",
       "        vertical-align: middle;\n",
       "    }\n",
       "\n",
       "    .dataframe tbody tr th {\n",
       "        vertical-align: top;\n",
       "    }\n",
       "\n",
       "    .dataframe thead th {\n",
       "        text-align: right;\n",
       "    }\n",
       "</style>\n",
       "<table border=\"1\" class=\"dataframe\">\n",
       "  <thead>\n",
       "    <tr style=\"text-align: right;\">\n",
       "      <th></th>\n",
       "      <th>UCR_PART</th>\n",
       "      <th>YEAR</th>\n",
       "      <th>REPORTING_AREA</th>\n",
       "    </tr>\n",
       "  </thead>\n",
       "  <tbody>\n",
       "    <tr>\n",
       "      <th>14919</th>\n",
       "      <td>2</td>\n",
       "      <td>2018</td>\n",
       "      <td>257</td>\n",
       "    </tr>\n",
       "    <tr>\n",
       "      <th>144439</th>\n",
       "      <td>2</td>\n",
       "      <td>2017</td>\n",
       "      <td>467</td>\n",
       "    </tr>\n",
       "    <tr>\n",
       "      <th>49471</th>\n",
       "      <td>2</td>\n",
       "      <td>2018</td>\n",
       "      <td>752</td>\n",
       "    </tr>\n",
       "    <tr>\n",
       "      <th>281267</th>\n",
       "      <td>2</td>\n",
       "      <td>2015</td>\n",
       "      <td>813</td>\n",
       "    </tr>\n",
       "    <tr>\n",
       "      <th>55401</th>\n",
       "      <td>2</td>\n",
       "      <td>2018</td>\n",
       "      <td>145</td>\n",
       "    </tr>\n",
       "  </tbody>\n",
       "</table>\n",
       "</div>"
      ],
      "text/plain": [
       "        UCR_PART  YEAR  REPORTING_AREA\n",
       "14919          2  2018             257\n",
       "144439         2  2017             467\n",
       "49471          2  2018             752\n",
       "281267         2  2015             813\n",
       "55401          2  2018             145"
      ]
     },
     "execution_count": 91,
     "metadata": {},
     "output_type": "execute_result"
    }
   ],
   "source": [
    "odata.head()"
   ]
  },
  {
   "cell_type": "code",
   "execution_count": 92,
   "metadata": {},
   "outputs": [],
   "source": [
    "odata['YEAR']=LabelEncoder().fit_transform(odata['YEAR'])"
   ]
  },
  {
   "cell_type": "code",
   "execution_count": 93,
   "metadata": {},
   "outputs": [
    {
     "data": {
      "text/plain": [
       "array([43, 32, 52, 42, 34, 61, 21, 10, 46, 63, 31, 56, 40, 35, 27, 15, 62,\n",
       "       65,  0, 14,  3, 12, 59, 64, 51, 66, 22, 11, 33,  4, 58, 49, 54, 41,\n",
       "       38, 29, 55,  5, 19, 13, 20, 57, 45, 37, 16, 60, 44, 28, 53,  6, 36,\n",
       "       17, 47,  8, 18, 24,  1, 50,  2, 23, 39, 48,  9, 30,  7, 25])"
      ]
     },
     "execution_count": 93,
     "metadata": {},
     "output_type": "execute_result"
    }
   ],
   "source": [
    "otarget.unique()"
   ]
  },
  {
   "cell_type": "markdown",
   "metadata": {},
   "source": [
    "Predict Offense_code_group with three features and SVC"
   ]
  },
  {
   "cell_type": "code",
   "execution_count": 94,
   "metadata": {},
   "outputs": [],
   "source": [
    "odataTrain,odataTest,\\\n",
    "otargetTrain,otargetTest = \\\n",
    "train_test_split(odata,otarget,train_size=0.8)\n"
   ]
  },
  {
   "cell_type": "code",
   "execution_count": 95,
   "metadata": {},
   "outputs": [],
   "source": [
    "offenseSVC=SVC()"
   ]
  },
  {
   "cell_type": "code",
   "execution_count": 96,
   "metadata": {},
   "outputs": [
    {
     "data": {
      "text/plain": [
       "SVC()"
      ]
     },
     "execution_count": 96,
     "metadata": {},
     "output_type": "execute_result"
    }
   ],
   "source": [
    "offenseSVC"
   ]
  },
  {
   "cell_type": "code",
   "execution_count": 97,
   "metadata": {},
   "outputs": [
    {
     "data": {
      "text/plain": [
       "SVC()"
      ]
     },
     "execution_count": 97,
     "metadata": {},
     "output_type": "execute_result"
    }
   ],
   "source": [
    "offenseSVC.fit(odataTrain,otargetTrain)"
   ]
  },
  {
   "cell_type": "code",
   "execution_count": 98,
   "metadata": {},
   "outputs": [],
   "source": [
    "offensepred=offenseSVC.predict(odataTrain)"
   ]
  },
  {
   "cell_type": "code",
   "execution_count": 99,
   "metadata": {},
   "outputs": [
    {
     "name": "stdout",
     "output_type": "stream",
     "text": [
      "              precision    recall  f1-score   support\n",
      "\n",
      "           0       0.00      0.00      0.00      1982\n",
      "           1       0.00      0.00      0.00        14\n",
      "           2       0.00      0.00      0.00        30\n",
      "           3       0.00      0.00      0.00       232\n",
      "           4       0.00      0.00      0.00      1223\n",
      "           5       0.00      0.00      0.00       292\n",
      "           6       0.00      0.00      0.00       225\n",
      "           7       0.00      0.00      0.00         1\n",
      "           8       0.00      0.00      0.00        24\n",
      "           9       0.00      0.00      0.00         1\n",
      "          10       0.00      0.00      0.00       337\n",
      "          11       0.00      0.00      0.00       769\n",
      "          12       0.00      0.00      0.00       359\n",
      "          13       0.00      0.00      0.00        32\n",
      "          14       0.00      0.00      0.00       635\n",
      "          15       0.00      0.00      0.00      4117\n",
      "          16       0.00      0.00      0.00        69\n",
      "          17       0.00      0.00      0.00        98\n",
      "          18       0.00      0.00      0.00        10\n",
      "          19       0.00      0.00      0.00       463\n",
      "          20       0.00      0.00      0.00       181\n",
      "          21       0.00      0.00      0.00       452\n",
      "          22       0.00      0.00      0.00      1473\n",
      "          23       0.00      0.00      0.00         1\n",
      "          24       0.00      0.00      0.00        13\n",
      "          25       0.00      0.00      0.00         2\n",
      "          27       0.00      0.00      0.00      1015\n",
      "          28       0.00      0.00      0.00        51\n",
      "          29       0.00      0.00      0.00        48\n",
      "          30       0.00      0.00      0.00         2\n",
      "          31       0.00      0.00      0.00      4774\n",
      "          32       0.00      0.00      0.00      2774\n",
      "          33       0.00      0.00      0.00       262\n",
      "          34       0.00      0.00      0.00      6537\n",
      "          35       0.00      0.00      0.00      2729\n",
      "          36       0.00      0.00      0.00       123\n",
      "          37       0.00      0.00      0.00       443\n",
      "          38       0.00      0.00      0.00       233\n",
      "          39       0.00      0.00      0.00         2\n",
      "          40       0.10      0.10      0.10      5829\n",
      "          41       0.00      0.00      0.00      1247\n",
      "          42       0.00      0.00      0.00       910\n",
      "          43       0.12      0.97      0.22      9461\n",
      "          44       0.00      0.00      0.00       121\n",
      "          45       0.00      0.00      0.00       161\n",
      "          46       0.00      0.00      0.00      4487\n",
      "          47       0.00      0.00      0.00       122\n",
      "          48       0.00      0.00      0.00         5\n",
      "          49       0.00      0.00      0.00       699\n",
      "          50       0.00      0.00      0.00        68\n",
      "          51       0.00      0.00      0.00       965\n",
      "          52       0.00      0.00      0.00      2482\n",
      "          53       0.00      0.00      0.00       230\n",
      "          54       0.00      0.00      0.00        47\n",
      "          55       0.00      0.00      0.00       348\n",
      "          56       0.00      0.00      0.00      1455\n",
      "          57       0.00      0.00      0.00       394\n",
      "          58       0.00      0.00      0.00      1118\n",
      "          59       0.00      0.00      0.00       250\n",
      "          60       0.00      0.00      0.00        71\n",
      "          61       0.00      0.00      0.00      3917\n",
      "          62       0.00      0.00      0.00      2841\n",
      "          63       0.00      0.00      0.00      3874\n",
      "          64       0.00      0.00      0.00      3272\n",
      "          65       0.00      0.00      0.00      1512\n",
      "          66       0.00      0.00      0.00      2086\n",
      "\n",
      "    accuracy                           0.12     80000\n",
      "   macro avg       0.00      0.02      0.00     80000\n",
      "weighted avg       0.02      0.12      0.03     80000\n",
      "\n",
      "0.12145\n"
     ]
    },
    {
     "name": "stderr",
     "output_type": "stream",
     "text": [
      "/Users/nazmulfarooquee/opt/anaconda3/lib/python3.8/site-packages/sklearn/metrics/_classification.py:1318: UndefinedMetricWarning: Precision and F-score are ill-defined and being set to 0.0 in labels with no predicted samples. Use `zero_division` parameter to control this behavior.\n",
      "  _warn_prf(average, modifier, msg_start, len(result))\n",
      "/Users/nazmulfarooquee/opt/anaconda3/lib/python3.8/site-packages/sklearn/metrics/_classification.py:1318: UndefinedMetricWarning: Precision and F-score are ill-defined and being set to 0.0 in labels with no predicted samples. Use `zero_division` parameter to control this behavior.\n",
      "  _warn_prf(average, modifier, msg_start, len(result))\n",
      "/Users/nazmulfarooquee/opt/anaconda3/lib/python3.8/site-packages/sklearn/metrics/_classification.py:1318: UndefinedMetricWarning: Precision and F-score are ill-defined and being set to 0.0 in labels with no predicted samples. Use `zero_division` parameter to control this behavior.\n",
      "  _warn_prf(average, modifier, msg_start, len(result))\n"
     ]
    }
   ],
   "source": [
    "print(classification_report(otargetTrain,offensepred))\n",
    "print(accuracy_score(otargetTrain,offensepred))"
   ]
  },
  {
   "cell_type": "code",
   "execution_count": 100,
   "metadata": {},
   "outputs": [],
   "source": [
    "offensepredict=offenseSVC.predict(odataTest)"
   ]
  },
  {
   "cell_type": "code",
   "execution_count": 101,
   "metadata": {},
   "outputs": [
    {
     "name": "stdout",
     "output_type": "stream",
     "text": [
      "              precision    recall  f1-score   support\n",
      "\n",
      "           0       0.00      0.00      0.00       497\n",
      "           1       0.00      0.00      0.00         2\n",
      "           2       0.00      0.00      0.00         6\n",
      "           3       0.00      0.00      0.00        67\n",
      "           4       0.00      0.00      0.00       272\n",
      "           5       0.00      0.00      0.00        62\n",
      "           6       0.00      0.00      0.00        74\n",
      "           8       0.00      0.00      0.00         7\n",
      "          10       0.00      0.00      0.00        83\n",
      "          11       0.00      0.00      0.00       194\n",
      "          12       0.00      0.00      0.00        95\n",
      "          13       0.00      0.00      0.00         7\n",
      "          14       0.00      0.00      0.00       171\n",
      "          15       0.00      0.00      0.00      1007\n",
      "          16       0.00      0.00      0.00        20\n",
      "          17       0.00      0.00      0.00        18\n",
      "          18       0.00      0.00      0.00         3\n",
      "          19       0.00      0.00      0.00       117\n",
      "          20       0.00      0.00      0.00        42\n",
      "          21       0.00      0.00      0.00       114\n",
      "          22       0.00      0.00      0.00       383\n",
      "          24       0.00      0.00      0.00         9\n",
      "          25       0.00      0.00      0.00         1\n",
      "          27       0.00      0.00      0.00       251\n",
      "          28       0.00      0.00      0.00        12\n",
      "          29       0.00      0.00      0.00         4\n",
      "          31       0.00      0.00      0.00      1202\n",
      "          32       0.00      0.00      0.00       691\n",
      "          33       0.00      0.00      0.00        56\n",
      "          34       0.00      0.00      0.00      1628\n",
      "          35       0.00      0.00      0.00       710\n",
      "          36       0.00      0.00      0.00        38\n",
      "          37       0.00      0.00      0.00        99\n",
      "          38       0.00      0.00      0.00        75\n",
      "          40       0.10      0.10      0.10      1431\n",
      "          41       0.00      0.00      0.00       301\n",
      "          42       0.00      0.00      0.00       239\n",
      "          43       0.12      0.96      0.22      2339\n",
      "          44       0.00      0.00      0.00        32\n",
      "          45       0.00      0.00      0.00        33\n",
      "          46       0.00      0.00      0.00      1130\n",
      "          47       0.00      0.00      0.00        30\n",
      "          49       0.00      0.00      0.00       165\n",
      "          50       0.00      0.00      0.00        15\n",
      "          51       0.00      0.00      0.00       237\n",
      "          52       0.00      0.00      0.00       629\n",
      "          53       0.00      0.00      0.00        53\n",
      "          54       0.00      0.00      0.00        18\n",
      "          55       0.00      0.00      0.00        79\n",
      "          56       0.00      0.00      0.00       352\n",
      "          57       0.00      0.00      0.00        91\n",
      "          58       0.00      0.00      0.00       273\n",
      "          59       0.00      0.00      0.00        56\n",
      "          60       0.00      0.00      0.00        22\n",
      "          61       0.00      0.00      0.00      1037\n",
      "          62       0.00      0.00      0.00       720\n",
      "          63       0.00      0.00      0.00       969\n",
      "          64       0.00      0.00      0.00       815\n",
      "          65       0.00      0.00      0.00       419\n",
      "          66       0.00      0.00      0.00       498\n",
      "\n",
      "    accuracy                           0.12     20000\n",
      "   macro avg       0.00      0.02      0.01     20000\n",
      "weighted avg       0.02      0.12      0.03     20000\n",
      "\n",
      "0.1196\n"
     ]
    },
    {
     "name": "stderr",
     "output_type": "stream",
     "text": [
      "/Users/nazmulfarooquee/opt/anaconda3/lib/python3.8/site-packages/sklearn/metrics/_classification.py:1318: UndefinedMetricWarning: Precision and F-score are ill-defined and being set to 0.0 in labels with no predicted samples. Use `zero_division` parameter to control this behavior.\n",
      "  _warn_prf(average, modifier, msg_start, len(result))\n",
      "/Users/nazmulfarooquee/opt/anaconda3/lib/python3.8/site-packages/sklearn/metrics/_classification.py:1318: UndefinedMetricWarning: Precision and F-score are ill-defined and being set to 0.0 in labels with no predicted samples. Use `zero_division` parameter to control this behavior.\n",
      "  _warn_prf(average, modifier, msg_start, len(result))\n",
      "/Users/nazmulfarooquee/opt/anaconda3/lib/python3.8/site-packages/sklearn/metrics/_classification.py:1318: UndefinedMetricWarning: Precision and F-score are ill-defined and being set to 0.0 in labels with no predicted samples. Use `zero_division` parameter to control this behavior.\n",
      "  _warn_prf(average, modifier, msg_start, len(result))\n"
     ]
    }
   ],
   "source": [
    "print(classification_report(otargetTest,offensepredict))\n",
    "print(accuracy_score(otargetTest,offensepredict))"
   ]
  },
  {
   "cell_type": "markdown",
   "metadata": {},
   "source": [
    "## Predict OFFENSE_CODE_GROUP PCA and SVC "
   ]
  },
  {
   "cell_type": "code",
   "execution_count": 102,
   "metadata": {},
   "outputs": [],
   "source": [
    "opdata=offenseSample.loc[:,['OFFENSE_CODE','OFFENSE_CODE_GROUP','OFFENSE_DESCRIPTION',\\\n",
    "                'DISTRICT','REPORTING_AREA','SHOOTING','YEAR','DAY_OF_WEEK','HOUR','UCR_PART','STREET','MONTH']]\n",
    "optarget=offenseSample.loc[:,'OFFENSE_CODE_GROUP']"
   ]
  },
  {
   "cell_type": "code",
   "execution_count": 103,
   "metadata": {},
   "outputs": [],
   "source": [
    "opcamodel=PCA(n_components=12).fit(opdata)"
   ]
  },
  {
   "cell_type": "code",
   "execution_count": 104,
   "metadata": {},
   "outputs": [
    {
     "data": {
      "text/plain": [
       "array([5.87785813e-01, 3.93016300e-01, 1.81291135e-02, 9.96160181e-04,\n",
       "       5.44401896e-05, 1.10302342e-05, 3.02371679e-06, 2.60823709e-06,\n",
       "       1.14924921e-06, 2.33161388e-07, 1.28201616e-07, 7.85096723e-10])"
      ]
     },
     "execution_count": 104,
     "metadata": {},
     "output_type": "execute_result"
    }
   ],
   "source": [
    "opcamodel.explained_variance_ratio_"
   ]
  },
  {
   "cell_type": "code",
   "execution_count": 105,
   "metadata": {},
   "outputs": [],
   "source": [
    "opcadata=PCA(n_components=2).fit_transform(opdata)"
   ]
  },
  {
   "cell_type": "code",
   "execution_count": 106,
   "metadata": {},
   "outputs": [
    {
     "data": {
      "text/plain": [
       "(100000, 2)"
      ]
     },
     "execution_count": 106,
     "metadata": {},
     "output_type": "execute_result"
    }
   ],
   "source": [
    "opcadata.shape"
   ]
  },
  {
   "cell_type": "code",
   "execution_count": 107,
   "metadata": {},
   "outputs": [],
   "source": [
    "opcaDataTrain,opcaDataTest, \\\n",
    "opcaTargetTrain,opcaTargetTest = \\\n",
    "train_test_split(opcadata,optarget,train_size=0.8)"
   ]
  },
  {
   "cell_type": "code",
   "execution_count": 108,
   "metadata": {},
   "outputs": [],
   "source": [
    "pcaoffenseSVC = SVC().fit(opcaDataTrain, opcaTargetTrain)"
   ]
  },
  {
   "cell_type": "code",
   "execution_count": 109,
   "metadata": {},
   "outputs": [
    {
     "name": "stdout",
     "output_type": "stream",
     "text": [
      "              precision    recall  f1-score   support\n",
      "\n",
      "           0       0.91      1.00      0.95      1966\n",
      "           1       0.00      0.00      0.00        11\n",
      "           2       0.00      0.00      0.00        25\n",
      "           3       0.00      0.00      0.00       248\n",
      "           4       0.80      1.00      0.89      1191\n",
      "           5       0.00      0.00      0.00       280\n",
      "           6       0.00      0.00      0.00       237\n",
      "           7       0.00      0.00      0.00         1\n",
      "           8       0.00      0.00      0.00        22\n",
      "           9       0.00      0.00      0.00         1\n",
      "          10       0.00      0.00      0.00       344\n",
      "          11       0.00      0.00      0.00       769\n",
      "          12       1.00      0.64      0.78       357\n",
      "          13       0.00      0.00      0.00        32\n",
      "          14       0.98      1.00      0.99       631\n",
      "          15       1.00      1.00      1.00      4049\n",
      "          16       0.00      0.00      0.00        67\n",
      "          17       0.00      0.00      0.00        98\n",
      "          18       0.00      0.00      0.00        12\n",
      "          19       0.00      0.00      0.00       453\n",
      "          20       0.00      0.00      0.00       184\n",
      "          21       0.84      0.96      0.90       472\n",
      "          22       0.61      1.00      0.76      1495\n",
      "          23       0.00      0.00      0.00         1\n",
      "          24       0.00      0.00      0.00        17\n",
      "          25       0.00      0.00      0.00         3\n",
      "          27       0.00      0.00      0.00      1022\n",
      "          28       0.00      0.00      0.00        43\n",
      "          29       0.00      0.00      0.00        40\n",
      "          30       0.00      0.00      0.00         2\n",
      "          31       0.39      1.00      0.56      4802\n",
      "          32       0.00      0.00      0.00      2786\n",
      "          33       0.00      0.00      0.00       255\n",
      "          34       0.70      1.00      0.82      6515\n",
      "          35       0.00      0.00      0.00      2773\n",
      "          36       0.00      0.00      0.00       124\n",
      "          37       0.00      0.00      0.00       422\n",
      "          38       0.00      0.00      0.00       241\n",
      "          39       0.00      0.00      0.00         2\n",
      "          40       1.00      1.00      1.00      5801\n",
      "          41       0.54      1.00      0.70      1217\n",
      "          42       0.00      0.00      0.00       921\n",
      "          43       1.00      1.00      1.00      9480\n",
      "          44       0.00      0.00      0.00       131\n",
      "          45       0.00      0.00      0.00       153\n",
      "          46       0.67      0.77      0.72      4496\n",
      "          47       0.00      0.00      0.00       129\n",
      "          48       0.00      0.00      0.00         5\n",
      "          49       0.00      0.00      0.00       709\n",
      "          50       0.00      0.00      0.00        65\n",
      "          51       0.00      0.00      0.00       956\n",
      "          52       0.69      1.00      0.81      2508\n",
      "          53       0.00      0.00      0.00       230\n",
      "          54       0.00      0.00      0.00        52\n",
      "          55       1.00      0.51      0.67       342\n",
      "          56       0.76      1.00      0.87      1465\n",
      "          57       0.53      1.00      0.70       392\n",
      "          58       0.96      0.82      0.88      1135\n",
      "          59       0.00      0.00      0.00       250\n",
      "          60       0.00      0.00      0.00        74\n",
      "          61       0.99      1.00      1.00      3891\n",
      "          62       0.97      1.00      0.99      2833\n",
      "          63       0.95      1.00      0.98      3869\n",
      "          64       0.93      1.00      0.96      3311\n",
      "          65       0.68      1.00      0.81      1532\n",
      "          66       0.00      0.00      0.00      2060\n",
      "\n",
      "    accuracy                           0.78     80000\n",
      "   macro avg       0.29      0.33      0.30     80000\n",
      "weighted avg       0.67      0.78      0.71     80000\n",
      "\n",
      "0.7776625\n"
     ]
    },
    {
     "name": "stderr",
     "output_type": "stream",
     "text": [
      "/Users/nazmulfarooquee/opt/anaconda3/lib/python3.8/site-packages/sklearn/metrics/_classification.py:1318: UndefinedMetricWarning: Precision and F-score are ill-defined and being set to 0.0 in labels with no predicted samples. Use `zero_division` parameter to control this behavior.\n",
      "  _warn_prf(average, modifier, msg_start, len(result))\n",
      "/Users/nazmulfarooquee/opt/anaconda3/lib/python3.8/site-packages/sklearn/metrics/_classification.py:1318: UndefinedMetricWarning: Precision and F-score are ill-defined and being set to 0.0 in labels with no predicted samples. Use `zero_division` parameter to control this behavior.\n",
      "  _warn_prf(average, modifier, msg_start, len(result))\n",
      "/Users/nazmulfarooquee/opt/anaconda3/lib/python3.8/site-packages/sklearn/metrics/_classification.py:1318: UndefinedMetricWarning: Precision and F-score are ill-defined and being set to 0.0 in labels with no predicted samples. Use `zero_division` parameter to control this behavior.\n",
      "  _warn_prf(average, modifier, msg_start, len(result))\n"
     ]
    }
   ],
   "source": [
    "pcapre=pcaoffenseSVC.predict(opcaDataTrain)\n",
    "print(classification_report(opcaTargetTrain,pcapre))\n",
    "print(accuracy_score(opcaTargetTrain,pcapre))"
   ]
  },
  {
   "cell_type": "code",
   "execution_count": 110,
   "metadata": {},
   "outputs": [
    {
     "name": "stdout",
     "output_type": "stream",
     "text": [
      "              precision    recall  f1-score   support\n",
      "\n",
      "           0       0.91      1.00      0.95       513\n",
      "           1       0.00      0.00      0.00         5\n",
      "           2       0.00      0.00      0.00        11\n",
      "           3       0.00      0.00      0.00        51\n",
      "           4       0.80      1.00      0.89       304\n",
      "           5       0.00      0.00      0.00        74\n",
      "           6       0.00      0.00      0.00        62\n",
      "           8       0.00      0.00      0.00         9\n",
      "          10       0.00      0.00      0.00        76\n",
      "          11       0.00      0.00      0.00       194\n",
      "          12       1.00      0.64      0.78        97\n",
      "          13       0.00      0.00      0.00         7\n",
      "          14       0.98      1.00      0.99       175\n",
      "          15       1.00      1.00      1.00      1075\n",
      "          16       0.00      0.00      0.00        22\n",
      "          17       0.00      0.00      0.00        18\n",
      "          18       0.00      0.00      0.00         1\n",
      "          19       0.00      0.00      0.00       127\n",
      "          20       0.00      0.00      0.00        39\n",
      "          21       0.78      0.97      0.87        94\n",
      "          22       0.59      1.00      0.74       361\n",
      "          24       0.00      0.00      0.00         5\n",
      "          27       0.00      0.00      0.00       244\n",
      "          28       0.00      0.00      0.00        20\n",
      "          29       0.00      0.00      0.00        12\n",
      "          31       0.39      1.00      0.56      1174\n",
      "          32       0.00      0.00      0.00       679\n",
      "          33       0.00      0.00      0.00        63\n",
      "          34       0.71      1.00      0.83      1650\n",
      "          35       0.00      0.00      0.00       666\n",
      "          36       0.00      0.00      0.00        37\n",
      "          37       0.00      0.00      0.00       120\n",
      "          38       0.00      0.00      0.00        67\n",
      "          40       1.00      1.00      1.00      1459\n",
      "          41       0.56      1.00      0.72       331\n",
      "          42       0.00      0.00      0.00       228\n",
      "          43       1.00      1.00      1.00      2320\n",
      "          44       0.00      0.00      0.00        22\n",
      "          45       0.00      0.00      0.00        41\n",
      "          46       0.68      0.77      0.72      1121\n",
      "          47       0.00      0.00      0.00        23\n",
      "          49       0.00      0.00      0.00       155\n",
      "          50       0.00      0.00      0.00        18\n",
      "          51       0.00      0.00      0.00       246\n",
      "          52       0.67      1.00      0.80       603\n",
      "          53       0.00      0.00      0.00        53\n",
      "          54       0.00      0.00      0.00        13\n",
      "          55       1.00      0.54      0.70        85\n",
      "          56       0.78      1.00      0.88       342\n",
      "          57       0.52      1.00      0.69        93\n",
      "          58       0.94      0.80      0.87       256\n",
      "          59       0.00      0.00      0.00        56\n",
      "          60       0.00      0.00      0.00        19\n",
      "          61       0.99      1.00      0.99      1063\n",
      "          62       0.97      1.00      0.99       728\n",
      "          63       0.96      1.00      0.98       974\n",
      "          64       0.94      1.00      0.97       776\n",
      "          65       0.69      1.00      0.82       399\n",
      "          66       0.00      0.00      0.00       524\n",
      "\n",
      "    accuracy                           0.78     20000\n",
      "   macro avg       0.32      0.37      0.33     20000\n",
      "weighted avg       0.67      0.78      0.71     20000\n",
      "\n",
      "0.7802\n"
     ]
    },
    {
     "name": "stderr",
     "output_type": "stream",
     "text": [
      "/Users/nazmulfarooquee/opt/anaconda3/lib/python3.8/site-packages/sklearn/metrics/_classification.py:1318: UndefinedMetricWarning: Precision and F-score are ill-defined and being set to 0.0 in labels with no predicted samples. Use `zero_division` parameter to control this behavior.\n",
      "  _warn_prf(average, modifier, msg_start, len(result))\n",
      "/Users/nazmulfarooquee/opt/anaconda3/lib/python3.8/site-packages/sklearn/metrics/_classification.py:1318: UndefinedMetricWarning: Precision and F-score are ill-defined and being set to 0.0 in labels with no predicted samples. Use `zero_division` parameter to control this behavior.\n",
      "  _warn_prf(average, modifier, msg_start, len(result))\n",
      "/Users/nazmulfarooquee/opt/anaconda3/lib/python3.8/site-packages/sklearn/metrics/_classification.py:1318: UndefinedMetricWarning: Precision and F-score are ill-defined and being set to 0.0 in labels with no predicted samples. Use `zero_division` parameter to control this behavior.\n",
      "  _warn_prf(average, modifier, msg_start, len(result))\n"
     ]
    }
   ],
   "source": [
    "pcapredict=pcaoffenseSVC.predict(opcaDataTest)\n",
    "print(classification_report(opcaTargetTest,pcapredict))\n",
    "print(accuracy_score(opcaTargetTest,pcapredict))"
   ]
  },
  {
   "cell_type": "markdown",
   "metadata": {},
   "source": [
    "## Predict offense_code_group using PCA and GBC "
   ]
  },
  {
   "cell_type": "code",
   "execution_count": 111,
   "metadata": {},
   "outputs": [],
   "source": [
    "opcaGBC=GBC(max_depth=66).fit(opcaDataTrain,opcaTargetTrain)"
   ]
  },
  {
   "cell_type": "code",
   "execution_count": 112,
   "metadata": {},
   "outputs": [
    {
     "name": "stdout",
     "output_type": "stream",
     "text": [
      "              precision    recall  f1-score   support\n",
      "\n",
      "           0       1.00      1.00      1.00      1966\n",
      "           1       1.00      1.00      1.00        11\n",
      "           2       1.00      1.00      1.00        25\n",
      "           3       1.00      1.00      1.00       248\n",
      "           4       1.00      1.00      1.00      1191\n",
      "           5       1.00      1.00      1.00       280\n",
      "           6       1.00      1.00      1.00       237\n",
      "           7       1.00      1.00      1.00         1\n",
      "           8       1.00      1.00      1.00        22\n",
      "           9       1.00      1.00      1.00         1\n",
      "          10       1.00      1.00      1.00       344\n",
      "          11       1.00      1.00      1.00       769\n",
      "          12       1.00      1.00      1.00       357\n",
      "          13       1.00      1.00      1.00        32\n",
      "          14       1.00      1.00      1.00       631\n",
      "          15       1.00      1.00      1.00      4049\n",
      "          16       1.00      1.00      1.00        67\n",
      "          17       1.00      1.00      1.00        98\n",
      "          18       1.00      1.00      1.00        12\n",
      "          19       1.00      1.00      1.00       453\n",
      "          20       1.00      1.00      1.00       184\n",
      "          21       1.00      1.00      1.00       472\n",
      "          22       1.00      1.00      1.00      1495\n",
      "          23       1.00      1.00      1.00         1\n",
      "          24       1.00      1.00      1.00        17\n",
      "          25       1.00      1.00      1.00         3\n",
      "          27       1.00      1.00      1.00      1022\n",
      "          28       1.00      1.00      1.00        43\n",
      "          29       1.00      1.00      1.00        40\n",
      "          30       1.00      1.00      1.00         2\n",
      "          31       1.00      1.00      1.00      4802\n",
      "          32       1.00      1.00      1.00      2786\n",
      "          33       1.00      1.00      1.00       255\n",
      "          34       1.00      1.00      1.00      6515\n",
      "          35       1.00      1.00      1.00      2773\n",
      "          36       1.00      1.00      1.00       124\n",
      "          37       1.00      1.00      1.00       422\n",
      "          38       1.00      1.00      1.00       241\n",
      "          39       1.00      1.00      1.00         2\n",
      "          40       1.00      1.00      1.00      5801\n",
      "          41       1.00      1.00      1.00      1217\n",
      "          42       1.00      1.00      1.00       921\n",
      "          43       1.00      1.00      1.00      9480\n",
      "          44       1.00      1.00      1.00       131\n",
      "          45       1.00      1.00      1.00       153\n",
      "          46       1.00      1.00      1.00      4496\n",
      "          47       1.00      1.00      1.00       129\n",
      "          48       1.00      1.00      1.00         5\n",
      "          49       1.00      1.00      1.00       709\n",
      "          50       1.00      1.00      1.00        65\n",
      "          51       1.00      1.00      1.00       956\n",
      "          52       1.00      1.00      1.00      2508\n",
      "          53       1.00      1.00      1.00       230\n",
      "          54       1.00      1.00      1.00        52\n",
      "          55       1.00      1.00      1.00       342\n",
      "          56       1.00      1.00      1.00      1465\n",
      "          57       1.00      1.00      1.00       392\n",
      "          58       1.00      1.00      1.00      1135\n",
      "          59       1.00      1.00      1.00       250\n",
      "          60       1.00      1.00      1.00        74\n",
      "          61       1.00      1.00      1.00      3891\n",
      "          62       1.00      1.00      1.00      2833\n",
      "          63       1.00      1.00      1.00      3869\n",
      "          64       1.00      1.00      1.00      3311\n",
      "          65       1.00      1.00      1.00      1532\n",
      "          66       1.00      1.00      1.00      2060\n",
      "\n",
      "    accuracy                           1.00     80000\n",
      "   macro avg       1.00      1.00      1.00     80000\n",
      "weighted avg       1.00      1.00      1.00     80000\n",
      "\n",
      "1.0\n"
     ]
    }
   ],
   "source": [
    "opcaGBCpre=opcaGBC.predict(opcaDataTrain)\n",
    "print(classification_report(opcaTargetTrain,opcaGBCpre))\n",
    "print(accuracy_score(opcaTargetTrain,opcaGBCpre))"
   ]
  },
  {
   "cell_type": "code",
   "execution_count": 113,
   "metadata": {},
   "outputs": [
    {
     "name": "stdout",
     "output_type": "stream",
     "text": [
      "              precision    recall  f1-score   support\n",
      "\n",
      "           0       1.00      1.00      1.00       513\n",
      "           1       1.00      1.00      1.00         5\n",
      "           2       1.00      1.00      1.00        11\n",
      "           3       0.73      0.69      0.71        51\n",
      "           4       1.00      1.00      1.00       304\n",
      "           5       0.99      1.00      0.99        74\n",
      "           6       0.71      0.82      0.76        62\n",
      "           8       0.33      0.22      0.27         9\n",
      "          10       0.97      0.99      0.98        76\n",
      "          11       0.85      0.81      0.83       194\n",
      "          12       1.00      1.00      1.00        97\n",
      "          13       0.86      0.86      0.86         7\n",
      "          14       1.00      1.00      1.00       175\n",
      "          15       1.00      1.00      1.00      1075\n",
      "          16       1.00      1.00      1.00        22\n",
      "          17       0.27      0.17      0.21        18\n",
      "          18       0.00      0.00      0.00         1\n",
      "          19       0.74      0.67      0.70       127\n",
      "          20       0.96      0.64      0.77        39\n",
      "          21       0.90      0.93      0.91        94\n",
      "          22       0.90      0.93      0.91       361\n",
      "          24       0.00      0.00      0.00         5\n",
      "          27       0.94      0.97      0.95       244\n",
      "          28       0.81      0.65      0.72        20\n",
      "          29       1.00      0.83      0.91        12\n",
      "          30       0.00      0.00      0.00         0\n",
      "          31       0.91      0.92      0.91      1174\n",
      "          32       0.85      0.81      0.83       679\n",
      "          33       0.46      0.52      0.49        63\n",
      "          34       0.95      0.96      0.96      1650\n",
      "          35       0.90      0.86      0.88       666\n",
      "          36       0.46      0.30      0.36        37\n",
      "          37       0.80      0.79      0.79       120\n",
      "          38       0.88      0.91      0.90        67\n",
      "          39       0.00      0.00      0.00         0\n",
      "          40       1.00      1.00      1.00      1459\n",
      "          41       0.90      0.88      0.89       331\n",
      "          42       0.83      0.86      0.84       228\n",
      "          43       0.97      1.00      0.98      2320\n",
      "          44       0.82      0.82      0.82        22\n",
      "          45       1.00      1.00      1.00        41\n",
      "          46       0.96      0.94      0.95      1121\n",
      "          47       0.91      0.91      0.91        23\n",
      "          49       0.71      0.66      0.68       155\n",
      "          50       0.56      0.50      0.53        18\n",
      "          51       0.83      0.87      0.85       246\n",
      "          52       0.96      0.93      0.94       603\n",
      "          53       0.40      0.49      0.44        53\n",
      "          54       1.00      1.00      1.00        13\n",
      "          55       1.00      1.00      1.00        85\n",
      "          56       1.00      1.00      1.00       342\n",
      "          57       0.92      0.94      0.93        93\n",
      "          58       1.00      1.00      1.00       256\n",
      "          59       0.93      0.93      0.93        56\n",
      "          60       1.00      0.95      0.97        19\n",
      "          61       1.00      1.00      1.00      1063\n",
      "          62       1.00      1.00      1.00       728\n",
      "          63       1.00      1.00      1.00       974\n",
      "          64       0.98      0.98      0.98       776\n",
      "          65       0.99      0.98      0.99       399\n",
      "          66       0.99      0.99      0.99       524\n",
      "\n",
      "    accuracy                           0.95     20000\n",
      "   macro avg       0.82      0.80      0.81     20000\n",
      "weighted avg       0.95      0.95      0.95     20000\n",
      "\n",
      "0.9494\n"
     ]
    },
    {
     "name": "stderr",
     "output_type": "stream",
     "text": [
      "/Users/nazmulfarooquee/opt/anaconda3/lib/python3.8/site-packages/sklearn/metrics/_classification.py:1318: UndefinedMetricWarning: Recall and F-score are ill-defined and being set to 0.0 in labels with no true samples. Use `zero_division` parameter to control this behavior.\n",
      "  _warn_prf(average, modifier, msg_start, len(result))\n",
      "/Users/nazmulfarooquee/opt/anaconda3/lib/python3.8/site-packages/sklearn/metrics/_classification.py:1318: UndefinedMetricWarning: Recall and F-score are ill-defined and being set to 0.0 in labels with no true samples. Use `zero_division` parameter to control this behavior.\n",
      "  _warn_prf(average, modifier, msg_start, len(result))\n",
      "/Users/nazmulfarooquee/opt/anaconda3/lib/python3.8/site-packages/sklearn/metrics/_classification.py:1318: UndefinedMetricWarning: Recall and F-score are ill-defined and being set to 0.0 in labels with no true samples. Use `zero_division` parameter to control this behavior.\n",
      "  _warn_prf(average, modifier, msg_start, len(result))\n"
     ]
    }
   ],
   "source": [
    "opcaGBCpredict=opcaGBC.predict(opcaDataTest)\n",
    "print(classification_report(opcaTargetTest,opcaGBCpredict))\n",
    "print(accuracy_score(opcaTargetTest,opcaGBCpredict))"
   ]
  },
  {
   "cell_type": "markdown",
   "metadata": {},
   "source": [
    "## Predict Offense_code_group With using PCA and GradientBoostingClassifier,\n",
    "## The accuracy score is 94%, so that the best way may be using PCA and GradientBoostingClassifier. \n",
    "\n"
   ]
  }
 ],
 "metadata": {
  "interpreter": {
   "hash": "31dbdb85c2c0ebb049e7eb1c19b66c5bbcafc2ff5abff4ad32f515049cc3b694"
  },
  "kernelspec": {
   "display_name": "Python 3.8.8 64-bit ('base': conda)",
   "language": "python",
   "name": "python3"
  },
  "language_info": {
   "codemirror_mode": {
    "name": "ipython",
    "version": 3
   },
   "file_extension": ".py",
   "mimetype": "text/x-python",
   "name": "python",
   "nbconvert_exporter": "python",
   "pygments_lexer": "ipython3",
   "version": "3.8.8"
  },
  "orig_nbformat": 4
 },
 "nbformat": 4,
 "nbformat_minor": 2
}
